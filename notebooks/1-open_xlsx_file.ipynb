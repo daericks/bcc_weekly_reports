{
 "cells": [
  {
   "cell_type": "code",
   "execution_count": 43,
   "metadata": {
    "ExecuteTime": {
     "end_time": "2020-01-25T22:14:33.327033Z",
     "start_time": "2020-01-25T22:14:33.324141Z"
    }
   },
   "outputs": [],
   "source": [
    "import xlrd\n",
    "import pandas as pd"
   ]
  },
  {
   "cell_type": "code",
   "execution_count": null,
   "metadata": {},
   "outputs": [],
   "source": [
    "def openBCCfile():\n",
    "    loc = ('~/projects/bcc_weekly_reports/data/20200120_report.xlsx')\n",
    "\n",
    "    wb = xlrd.open_workbook(loc)\n",
    "    sheet = wb.sheet_by_index(2)\n",
    "    \n",
    "    print('Rows: {} \\nCols: {}'.format(sheet.ncols, sheet.nrows))"
   ]
  },
  {
   "cell_type": "code",
   "execution_count": 5,
   "metadata": {
    "ExecuteTime": {
     "end_time": "2020-01-25T21:47:00.829675Z",
     "start_time": "2020-01-25T21:47:00.807637Z"
    }
   },
   "outputs": [],
   "source": [
    "loc = ('~/projects/bcc_weekly_reports/data/20200120_report.xlsx')\n",
    "\n",
    "wb = xlrd.open_workbook(loc)\n",
    "sheet = wb.sheet_by_index(2)"
   ]
  },
  {
   "cell_type": "code",
   "execution_count": 19,
   "metadata": {
    "ExecuteTime": {
     "end_time": "2020-01-25T21:58:03.847706Z",
     "start_time": "2020-01-25T21:58:03.836722Z"
    }
   },
   "outputs": [
    {
     "name": "stdout",
     "output_type": "stream",
     "text": [
      "Rows: 4 \n",
      "Cols: 24\n"
     ]
    }
   ],
   "source": [
    "print('Rows: {} \\nCols: {}'.format(sheet.ncols, sheet.nrows))"
   ]
  },
  {
   "cell_type": "code",
   "execution_count": 38,
   "metadata": {
    "ExecuteTime": {
     "end_time": "2020-01-25T22:12:18.818226Z",
     "start_time": "2020-01-25T22:12:18.806853Z"
    }
   },
   "outputs": [],
   "source": [
    "def importCOAdata(table='totals'):\n",
    "    '''\n",
    "    Return a df of one of the 3 tables found in the COA weekly report\n",
    "    '''\n",
    "    # Which table to import\n",
    "    if table == 'totals':\n",
    "        rows = range(1,3)\n",
    "    elif table == 'product_category':\n",
    "        rows = range(4,9)\n",
    "    elif table == 'fail_category':\n",
    "        rows = range(9,23)\n",
    "\n",
    "    data = []\n",
    "    for row in rows:\n",
    "        data.append(sheet.row_values(row))\n",
    "\n",
    "    data_df = pd.DataFrame(data=data[1:], columns=data[0], dtype='int')\n",
    "    return data_df\n"
   ]
  },
  {
   "cell_type": "code",
   "execution_count": 39,
   "metadata": {
    "ExecuteTime": {
     "end_time": "2020-01-25T22:12:19.456939Z",
     "start_time": "2020-01-25T22:12:19.444961Z"
    }
   },
   "outputs": [
    {
     "data": {
      "text/html": [
       "<div>\n",
       "<style scoped>\n",
       "    .dataframe tbody tr th:only-of-type {\n",
       "        vertical-align: middle;\n",
       "    }\n",
       "\n",
       "    .dataframe tbody tr th {\n",
       "        vertical-align: top;\n",
       "    }\n",
       "\n",
       "    .dataframe thead th {\n",
       "        text-align: right;\n",
       "    }\n",
       "</style>\n",
       "<table border=\"1\" class=\"dataframe\">\n",
       "  <thead>\n",
       "    <tr style=\"text-align: right;\">\n",
       "      <th></th>\n",
       "      <th>Certificates of Analysis Received</th>\n",
       "      <th>Tested Batches</th>\n",
       "      <th></th>\n",
       "      <th>Failed Batches</th>\n",
       "    </tr>\n",
       "  </thead>\n",
       "  <tbody>\n",
       "    <tr>\n",
       "      <th>0</th>\n",
       "      <td>90793</td>\n",
       "      <td>90793</td>\n",
       "      <td></td>\n",
       "      <td>6124</td>\n",
       "    </tr>\n",
       "  </tbody>\n",
       "</table>\n",
       "</div>"
      ],
      "text/plain": [
       "   Certificates of Analysis Received  Tested Batches    Failed Batches\n",
       "0                              90793           90793              6124"
      ]
     },
     "execution_count": 39,
     "metadata": {},
     "output_type": "execute_result"
    }
   ],
   "source": [
    "importCOAdata(table='totals')"
   ]
  },
  {
   "cell_type": "code",
   "execution_count": 40,
   "metadata": {
    "ExecuteTime": {
     "end_time": "2020-01-25T22:12:32.946465Z",
     "start_time": "2020-01-25T22:12:32.938385Z"
    }
   },
   "outputs": [
    {
     "data": {
      "text/html": [
       "<div>\n",
       "<style scoped>\n",
       "    .dataframe tbody tr th:only-of-type {\n",
       "        vertical-align: middle;\n",
       "    }\n",
       "\n",
       "    .dataframe tbody tr th {\n",
       "        vertical-align: top;\n",
       "    }\n",
       "\n",
       "    .dataframe thead th {\n",
       "        text-align: right;\n",
       "    }\n",
       "</style>\n",
       "<table border=\"1\" class=\"dataframe\">\n",
       "  <thead>\n",
       "    <tr style=\"text-align: right;\">\n",
       "      <th></th>\n",
       "      <th>Tested Batches By Category</th>\n",
       "      <th>Tested Batches</th>\n",
       "      <th></th>\n",
       "      <th>Failed Batches By Category</th>\n",
       "    </tr>\n",
       "  </thead>\n",
       "  <tbody>\n",
       "    <tr>\n",
       "      <th>0</th>\n",
       "      <td>Flower:</td>\n",
       "      <td>44108</td>\n",
       "      <td></td>\n",
       "      <td>2401</td>\n",
       "    </tr>\n",
       "    <tr>\n",
       "      <th>1</th>\n",
       "      <td>Inhalable\\n(cartridges, waxes, etc.):</td>\n",
       "      <td>31715</td>\n",
       "      <td></td>\n",
       "      <td>2170</td>\n",
       "    </tr>\n",
       "    <tr>\n",
       "      <th>2</th>\n",
       "      <td>Other\\n(edibles, tinctures, topicals, etc.):</td>\n",
       "      <td>14970</td>\n",
       "      <td></td>\n",
       "      <td>1553</td>\n",
       "    </tr>\n",
       "    <tr>\n",
       "      <th>3</th>\n",
       "      <td>Total:</td>\n",
       "      <td>90793</td>\n",
       "      <td></td>\n",
       "      <td>6124</td>\n",
       "    </tr>\n",
       "  </tbody>\n",
       "</table>\n",
       "</div>"
      ],
      "text/plain": [
       "                     Tested Batches By Category  Tested Batches    \\\n",
       "0                                       Flower:           44108     \n",
       "1         Inhalable\\n(cartridges, waxes, etc.):           31715     \n",
       "2  Other\\n(edibles, tinctures, topicals, etc.):           14970     \n",
       "3                                        Total:           90793     \n",
       "\n",
       "   Failed Batches By Category  \n",
       "0                        2401  \n",
       "1                        2170  \n",
       "2                        1553  \n",
       "3                        6124  "
      ]
     },
     "execution_count": 40,
     "metadata": {},
     "output_type": "execute_result"
    }
   ],
   "source": [
    "importCOAdata(table='product_category')"
   ]
  },
  {
   "cell_type": "code",
   "execution_count": 41,
   "metadata": {
    "ExecuteTime": {
     "end_time": "2020-01-25T22:12:40.614675Z",
     "start_time": "2020-01-25T22:12:40.603050Z"
    }
   },
   "outputs": [
    {
     "data": {
      "text/html": [
       "<div>\n",
       "<style scoped>\n",
       "    .dataframe tbody tr th:only-of-type {\n",
       "        vertical-align: middle;\n",
       "    }\n",
       "\n",
       "    .dataframe tbody tr th {\n",
       "        vertical-align: top;\n",
       "    }\n",
       "\n",
       "    .dataframe thead th {\n",
       "        text-align: right;\n",
       "    }\n",
       "</style>\n",
       "<table border=\"1\" class=\"dataframe\">\n",
       "  <thead>\n",
       "    <tr style=\"text-align: right;\">\n",
       "      <th></th>\n",
       "      <th>*Reasons For Failure</th>\n",
       "      <th></th>\n",
       "      <th>Failed Batches By Category</th>\n",
       "      <th></th>\n",
       "    </tr>\n",
       "  </thead>\n",
       "  <tbody>\n",
       "    <tr>\n",
       "      <th>0</th>\n",
       "      <td>Label Claims:</td>\n",
       "      <td></td>\n",
       "      <td>2379</td>\n",
       "      <td></td>\n",
       "    </tr>\n",
       "    <tr>\n",
       "      <th>1</th>\n",
       "      <td>Pesticides:</td>\n",
       "      <td></td>\n",
       "      <td>1790</td>\n",
       "      <td></td>\n",
       "    </tr>\n",
       "    <tr>\n",
       "      <th>2</th>\n",
       "      <td>Microbial Impurities:</td>\n",
       "      <td></td>\n",
       "      <td>929</td>\n",
       "      <td></td>\n",
       "    </tr>\n",
       "    <tr>\n",
       "      <th>3</th>\n",
       "      <td>Residual Solvents:</td>\n",
       "      <td></td>\n",
       "      <td>361</td>\n",
       "      <td></td>\n",
       "    </tr>\n",
       "    <tr>\n",
       "      <th>4</th>\n",
       "      <td>Homogeneity:</td>\n",
       "      <td></td>\n",
       "      <td>36</td>\n",
       "      <td></td>\n",
       "    </tr>\n",
       "    <tr>\n",
       "      <th>5</th>\n",
       "      <td>Foreign Material:</td>\n",
       "      <td></td>\n",
       "      <td>26</td>\n",
       "      <td></td>\n",
       "    </tr>\n",
       "    <tr>\n",
       "      <th>6</th>\n",
       "      <td>Moisture:</td>\n",
       "      <td></td>\n",
       "      <td>71</td>\n",
       "      <td></td>\n",
       "    </tr>\n",
       "    <tr>\n",
       "      <th>7</th>\n",
       "      <td>Heavy Metals:</td>\n",
       "      <td></td>\n",
       "      <td>541</td>\n",
       "      <td></td>\n",
       "    </tr>\n",
       "    <tr>\n",
       "      <th>8</th>\n",
       "      <td>Water Activity:</td>\n",
       "      <td></td>\n",
       "      <td>51</td>\n",
       "      <td></td>\n",
       "    </tr>\n",
       "    <tr>\n",
       "      <th>9</th>\n",
       "      <td>Cannabinoids:</td>\n",
       "      <td></td>\n",
       "      <td>77</td>\n",
       "      <td></td>\n",
       "    </tr>\n",
       "    <tr>\n",
       "      <th>10</th>\n",
       "      <td>Mycotoxins:</td>\n",
       "      <td></td>\n",
       "      <td>10</td>\n",
       "      <td></td>\n",
       "    </tr>\n",
       "    <tr>\n",
       "      <th>11</th>\n",
       "      <td>Injurious to Human Health:</td>\n",
       "      <td></td>\n",
       "      <td>2</td>\n",
       "      <td></td>\n",
       "    </tr>\n",
       "    <tr>\n",
       "      <th>12</th>\n",
       "      <td>Total:</td>\n",
       "      <td></td>\n",
       "      <td>6273</td>\n",
       "      <td></td>\n",
       "    </tr>\n",
       "  </tbody>\n",
       "</table>\n",
       "</div>"
      ],
      "text/plain": [
       "          *Reasons For Failure    Failed Batches By Category  \n",
       "0                Label Claims:                          2379  \n",
       "1                  Pesticides:                          1790  \n",
       "2        Microbial Impurities:                           929  \n",
       "3           Residual Solvents:                           361  \n",
       "4                 Homogeneity:                            36  \n",
       "5            Foreign Material:                            26  \n",
       "6                    Moisture:                            71  \n",
       "7                Heavy Metals:                           541  \n",
       "8              Water Activity:                            51  \n",
       "9                Cannabinoids:                            77  \n",
       "10                 Mycotoxins:                            10  \n",
       "11  Injurious to Human Health:                             2  \n",
       "12                      Total:                          6273  "
      ]
     },
     "execution_count": 41,
     "metadata": {},
     "output_type": "execute_result"
    }
   ],
   "source": [
    "importCOAdata(table='fail_category')"
   ]
  },
  {
   "cell_type": "code",
   "execution_count": null,
   "metadata": {},
   "outputs": [],
   "source": []
  }
 ],
 "metadata": {
  "kernelspec": {
   "display_name": "Python 3",
   "language": "python",
   "name": "python3"
  },
  "language_info": {
   "codemirror_mode": {
    "name": "ipython",
    "version": 3
   },
   "file_extension": ".py",
   "mimetype": "text/x-python",
   "name": "python",
   "nbconvert_exporter": "python",
   "pygments_lexer": "ipython3",
   "version": "3.7.6"
  },
  "toc": {
   "base_numbering": 1,
   "nav_menu": {},
   "number_sections": true,
   "sideBar": true,
   "skip_h1_title": false,
   "title_cell": "Table of Contents",
   "title_sidebar": "Contents",
   "toc_cell": false,
   "toc_position": {},
   "toc_section_display": true,
   "toc_window_display": false
  }
 },
 "nbformat": 4,
 "nbformat_minor": 2
}
