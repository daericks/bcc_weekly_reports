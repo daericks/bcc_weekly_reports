{
 "cells": [
  {
   "cell_type": "code",
   "execution_count": 1,
   "metadata": {
    "ExecuteTime": {
     "end_time": "2020-01-27T00:20:16.704751Z",
     "start_time": "2020-01-27T00:20:15.758453Z"
    }
   },
   "outputs": [],
   "source": [
    "import xlrd\n",
    "import pandas as pd"
   ]
  },
  {
   "cell_type": "code",
   "execution_count": 2,
   "metadata": {
    "ExecuteTime": {
     "end_time": "2020-01-27T00:20:16.717713Z",
     "start_time": "2020-01-27T00:20:16.712337Z"
    }
   },
   "outputs": [],
   "source": [
    "def dateFromFilename(file='20200120_report.xlsx'):\n",
    "    date = file.replace('_report.xlsx', '').replace('_update.xlsx', '')\n",
    "    return date"
   ]
  },
  {
   "cell_type": "code",
   "execution_count": 3,
   "metadata": {
    "ExecuteTime": {
     "end_time": "2020-01-27T00:20:16.784838Z",
     "start_time": "2020-01-27T00:20:16.721231Z"
    }
   },
   "outputs": [
    {
     "name": "stdout",
     "output_type": "stream",
     "text": [
      "Opening ~/projects/bcc_weekly_reports/data/20200120_report.xlsx\n",
      "Rows: 4, Cols: 24\n"
     ]
    }
   ],
   "source": [
    "def openBCCfile(file = '20200120_report.xlsx'):\n",
    "    date = dateFromFilename(file)\n",
    "    data_dir = '~/projects/bcc_weekly_reports/data/'\n",
    "    loc = (data_dir + file)\n",
    "\n",
    "    print('Opening {}'.format(loc))\n",
    "    wb = xlrd.open_workbook(loc)\n",
    "    sheet = wb.sheet_by_name('COA Stats')\n",
    "#     if '_update' in file:\n",
    "#         sheet = wb.sheet_by_index(0)\n",
    "#     else:\n",
    "#         sheet = wb.sheet_by_index(2)\n",
    "    print('Rows: {}, Cols: {}'.format(sheet.ncols, sheet.nrows))\n",
    "    \n",
    "    return wb, sheet\n",
    "\n",
    "wb, sheet = openBCCfile(file = '20200120_report.xlsx')"
   ]
  },
  {
   "cell_type": "code",
   "execution_count": 4,
   "metadata": {
    "ExecuteTime": {
     "end_time": "2020-01-27T00:20:16.809815Z",
     "start_time": "2020-01-27T00:20:16.788567Z"
    }
   },
   "outputs": [],
   "source": [
    "def importCOAdata(table='totals', file = '20200120_report.xlsx'):\n",
    "    '''\n",
    "    Return a df of one of the 3 tables found in the COA weekly report\n",
    "    '''\n",
    "    # Which table to import\n",
    "    if table == 'totals':\n",
    "        rows = range(1,3)\n",
    "    elif table == 'product_category':\n",
    "        rows = range(4,9)\n",
    "    elif table == 'fail_category':\n",
    "        rows = range(9,sheet.nrows)\n",
    "\n",
    "    # Create dataframe from table\n",
    "    data = []\n",
    "    for row in rows:\n",
    "        data.append(sheet.row_values(row))\n",
    "    data_df = pd.DataFrame(data=data[1:], columns=data[0], dtype='int')\n",
    "    \n",
    "    # Create date column and make dtype=datetime\n",
    "    date = dateFromFilename(file)\n",
    "    data_df['Date'] = pd.to_datetime(date)\n",
    "    \n",
    "    return data_df\n"
   ]
  },
  {
   "cell_type": "code",
   "execution_count": 5,
   "metadata": {
    "ExecuteTime": {
     "end_time": "2020-01-27T00:20:16.852253Z",
     "start_time": "2020-01-27T00:20:16.814513Z"
    }
   },
   "outputs": [
    {
     "data": {
      "text/html": [
       "<div>\n",
       "<style scoped>\n",
       "    .dataframe tbody tr th:only-of-type {\n",
       "        vertical-align: middle;\n",
       "    }\n",
       "\n",
       "    .dataframe tbody tr th {\n",
       "        vertical-align: top;\n",
       "    }\n",
       "\n",
       "    .dataframe thead th {\n",
       "        text-align: right;\n",
       "    }\n",
       "</style>\n",
       "<table border=\"1\" class=\"dataframe\">\n",
       "  <thead>\n",
       "    <tr style=\"text-align: right;\">\n",
       "      <th></th>\n",
       "      <th>Certificates of Analysis Received</th>\n",
       "      <th>Tested Batches</th>\n",
       "      <th></th>\n",
       "      <th>Failed Batches</th>\n",
       "      <th>Date</th>\n",
       "    </tr>\n",
       "  </thead>\n",
       "  <tbody>\n",
       "    <tr>\n",
       "      <th>0</th>\n",
       "      <td>90793</td>\n",
       "      <td>90793</td>\n",
       "      <td></td>\n",
       "      <td>6124</td>\n",
       "      <td>2020-01-20</td>\n",
       "    </tr>\n",
       "  </tbody>\n",
       "</table>\n",
       "</div>"
      ],
      "text/plain": [
       "   Certificates of Analysis Received  Tested Batches    Failed Batches  \\\n",
       "0                              90793           90793              6124   \n",
       "\n",
       "        Date  \n",
       "0 2020-01-20  "
      ]
     },
     "execution_count": 5,
     "metadata": {},
     "output_type": "execute_result"
    }
   ],
   "source": [
    "totals = importCOAdata(table='totals')\n",
    "totals"
   ]
  },
  {
   "cell_type": "code",
   "execution_count": 6,
   "metadata": {
    "ExecuteTime": {
     "end_time": "2020-01-27T00:20:16.897343Z",
     "start_time": "2020-01-27T00:20:16.858599Z"
    }
   },
   "outputs": [
    {
     "data": {
      "text/html": [
       "<div>\n",
       "<style scoped>\n",
       "    .dataframe tbody tr th:only-of-type {\n",
       "        vertical-align: middle;\n",
       "    }\n",
       "\n",
       "    .dataframe tbody tr th {\n",
       "        vertical-align: top;\n",
       "    }\n",
       "\n",
       "    .dataframe thead th {\n",
       "        text-align: right;\n",
       "    }\n",
       "</style>\n",
       "<table border=\"1\" class=\"dataframe\">\n",
       "  <thead>\n",
       "    <tr style=\"text-align: right;\">\n",
       "      <th></th>\n",
       "      <th>Tested Batches By Category</th>\n",
       "      <th>Tested Batches</th>\n",
       "      <th></th>\n",
       "      <th>Failed Batches By Category</th>\n",
       "      <th>Date</th>\n",
       "    </tr>\n",
       "  </thead>\n",
       "  <tbody>\n",
       "    <tr>\n",
       "      <th>0</th>\n",
       "      <td>Flower:</td>\n",
       "      <td>44108</td>\n",
       "      <td></td>\n",
       "      <td>2401</td>\n",
       "      <td>2020-01-20</td>\n",
       "    </tr>\n",
       "    <tr>\n",
       "      <th>1</th>\n",
       "      <td>Inhalable\\n(cartridges, waxes, etc.):</td>\n",
       "      <td>31715</td>\n",
       "      <td></td>\n",
       "      <td>2170</td>\n",
       "      <td>2020-01-20</td>\n",
       "    </tr>\n",
       "    <tr>\n",
       "      <th>2</th>\n",
       "      <td>Other\\n(edibles, tinctures, topicals, etc.):</td>\n",
       "      <td>14970</td>\n",
       "      <td></td>\n",
       "      <td>1553</td>\n",
       "      <td>2020-01-20</td>\n",
       "    </tr>\n",
       "    <tr>\n",
       "      <th>3</th>\n",
       "      <td>Total:</td>\n",
       "      <td>90793</td>\n",
       "      <td></td>\n",
       "      <td>6124</td>\n",
       "      <td>2020-01-20</td>\n",
       "    </tr>\n",
       "  </tbody>\n",
       "</table>\n",
       "</div>"
      ],
      "text/plain": [
       "                     Tested Batches By Category  Tested Batches    \\\n",
       "0                                       Flower:           44108     \n",
       "1         Inhalable\\n(cartridges, waxes, etc.):           31715     \n",
       "2  Other\\n(edibles, tinctures, topicals, etc.):           14970     \n",
       "3                                        Total:           90793     \n",
       "\n",
       "   Failed Batches By Category       Date  \n",
       "0                        2401 2020-01-20  \n",
       "1                        2170 2020-01-20  \n",
       "2                        1553 2020-01-20  \n",
       "3                        6124 2020-01-20  "
      ]
     },
     "execution_count": 6,
     "metadata": {},
     "output_type": "execute_result"
    }
   ],
   "source": [
    "product_categories = importCOAdata(table='product_category')\n",
    "product_categories"
   ]
  },
  {
   "cell_type": "code",
   "execution_count": 7,
   "metadata": {
    "ExecuteTime": {
     "end_time": "2020-01-27T00:20:16.969860Z",
     "start_time": "2020-01-27T00:20:16.938584Z"
    }
   },
   "outputs": [
    {
     "data": {
      "text/html": [
       "<div>\n",
       "<style scoped>\n",
       "    .dataframe tbody tr th:only-of-type {\n",
       "        vertical-align: middle;\n",
       "    }\n",
       "\n",
       "    .dataframe tbody tr th {\n",
       "        vertical-align: top;\n",
       "    }\n",
       "\n",
       "    .dataframe thead th {\n",
       "        text-align: right;\n",
       "    }\n",
       "</style>\n",
       "<table border=\"1\" class=\"dataframe\">\n",
       "  <thead>\n",
       "    <tr style=\"text-align: right;\">\n",
       "      <th></th>\n",
       "      <th>*Reasons For Failure</th>\n",
       "      <th></th>\n",
       "      <th>Failed Batches By Category</th>\n",
       "      <th></th>\n",
       "      <th>Date</th>\n",
       "    </tr>\n",
       "  </thead>\n",
       "  <tbody>\n",
       "    <tr>\n",
       "      <th>0</th>\n",
       "      <td>Label Claims:</td>\n",
       "      <td></td>\n",
       "      <td>2379</td>\n",
       "      <td></td>\n",
       "      <td>2020-01-20</td>\n",
       "    </tr>\n",
       "    <tr>\n",
       "      <th>1</th>\n",
       "      <td>Pesticides:</td>\n",
       "      <td></td>\n",
       "      <td>1790</td>\n",
       "      <td></td>\n",
       "      <td>2020-01-20</td>\n",
       "    </tr>\n",
       "    <tr>\n",
       "      <th>2</th>\n",
       "      <td>Microbial Impurities:</td>\n",
       "      <td></td>\n",
       "      <td>929</td>\n",
       "      <td></td>\n",
       "      <td>2020-01-20</td>\n",
       "    </tr>\n",
       "    <tr>\n",
       "      <th>3</th>\n",
       "      <td>Residual Solvents:</td>\n",
       "      <td></td>\n",
       "      <td>361</td>\n",
       "      <td></td>\n",
       "      <td>2020-01-20</td>\n",
       "    </tr>\n",
       "    <tr>\n",
       "      <th>4</th>\n",
       "      <td>Homogeneity:</td>\n",
       "      <td></td>\n",
       "      <td>36</td>\n",
       "      <td></td>\n",
       "      <td>2020-01-20</td>\n",
       "    </tr>\n",
       "    <tr>\n",
       "      <th>5</th>\n",
       "      <td>Foreign Material:</td>\n",
       "      <td></td>\n",
       "      <td>26</td>\n",
       "      <td></td>\n",
       "      <td>2020-01-20</td>\n",
       "    </tr>\n",
       "    <tr>\n",
       "      <th>6</th>\n",
       "      <td>Moisture:</td>\n",
       "      <td></td>\n",
       "      <td>71</td>\n",
       "      <td></td>\n",
       "      <td>2020-01-20</td>\n",
       "    </tr>\n",
       "    <tr>\n",
       "      <th>7</th>\n",
       "      <td>Heavy Metals:</td>\n",
       "      <td></td>\n",
       "      <td>541</td>\n",
       "      <td></td>\n",
       "      <td>2020-01-20</td>\n",
       "    </tr>\n",
       "    <tr>\n",
       "      <th>8</th>\n",
       "      <td>Water Activity:</td>\n",
       "      <td></td>\n",
       "      <td>51</td>\n",
       "      <td></td>\n",
       "      <td>2020-01-20</td>\n",
       "    </tr>\n",
       "    <tr>\n",
       "      <th>9</th>\n",
       "      <td>Cannabinoids:</td>\n",
       "      <td></td>\n",
       "      <td>77</td>\n",
       "      <td></td>\n",
       "      <td>2020-01-20</td>\n",
       "    </tr>\n",
       "    <tr>\n",
       "      <th>10</th>\n",
       "      <td>Mycotoxins:</td>\n",
       "      <td></td>\n",
       "      <td>10</td>\n",
       "      <td></td>\n",
       "      <td>2020-01-20</td>\n",
       "    </tr>\n",
       "    <tr>\n",
       "      <th>11</th>\n",
       "      <td>Injurious to Human Health:</td>\n",
       "      <td></td>\n",
       "      <td>2</td>\n",
       "      <td></td>\n",
       "      <td>2020-01-20</td>\n",
       "    </tr>\n",
       "    <tr>\n",
       "      <th>12</th>\n",
       "      <td>Total:</td>\n",
       "      <td></td>\n",
       "      <td>6273</td>\n",
       "      <td></td>\n",
       "      <td>2020-01-20</td>\n",
       "    </tr>\n",
       "    <tr>\n",
       "      <th>13</th>\n",
       "      <td>*Batches can fail for multiple categories</td>\n",
       "      <td></td>\n",
       "      <td></td>\n",
       "      <td></td>\n",
       "      <td>2020-01-20</td>\n",
       "    </tr>\n",
       "  </tbody>\n",
       "</table>\n",
       "</div>"
      ],
      "text/plain": [
       "                         *Reasons For Failure   Failed Batches By Category    \\\n",
       "0                               Label Claims:                         2379     \n",
       "1                                 Pesticides:                         1790     \n",
       "2                       Microbial Impurities:                          929     \n",
       "3                          Residual Solvents:                          361     \n",
       "4                                Homogeneity:                           36     \n",
       "5                           Foreign Material:                           26     \n",
       "6                                   Moisture:                           71     \n",
       "7                               Heavy Metals:                          541     \n",
       "8                             Water Activity:                           51     \n",
       "9                               Cannabinoids:                           77     \n",
       "10                                Mycotoxins:                           10     \n",
       "11                 Injurious to Human Health:                            2     \n",
       "12                                     Total:                         6273     \n",
       "13  *Batches can fail for multiple categories                                  \n",
       "\n",
       "         Date  \n",
       "0  2020-01-20  \n",
       "1  2020-01-20  \n",
       "2  2020-01-20  \n",
       "3  2020-01-20  \n",
       "4  2020-01-20  \n",
       "5  2020-01-20  \n",
       "6  2020-01-20  \n",
       "7  2020-01-20  \n",
       "8  2020-01-20  \n",
       "9  2020-01-20  \n",
       "10 2020-01-20  \n",
       "11 2020-01-20  \n",
       "12 2020-01-20  \n",
       "13 2020-01-20  "
      ]
     },
     "execution_count": 7,
     "metadata": {},
     "output_type": "execute_result"
    }
   ],
   "source": [
    "fail_categories = importCOAdata(table='fail_category')\n",
    "fail_categories"
   ]
  },
  {
   "cell_type": "code",
   "execution_count": 8,
   "metadata": {
    "ExecuteTime": {
     "end_time": "2020-01-27T00:20:16.984117Z",
     "start_time": "2020-01-27T00:20:16.976462Z"
    }
   },
   "outputs": [],
   "source": [
    "from os import listdir\n",
    "data_dir2 = '../../data/'\n",
    "files = [f for f in listdir(data_dir2) if '.xlsx' in f]"
   ]
  },
  {
   "cell_type": "code",
   "execution_count": 9,
   "metadata": {
    "ExecuteTime": {
     "end_time": "2020-01-27T00:20:17.002351Z",
     "start_time": "2020-01-27T00:20:16.985965Z"
    }
   },
   "outputs": [],
   "source": [
    "dates=[]\n",
    "for file in files: \n",
    "    dates.append(file.replace('_report.xlsx', '').replace('_update.xlsx',''))\n",
    "dates = sorted(dates)"
   ]
  },
  {
   "cell_type": "code",
   "execution_count": 10,
   "metadata": {
    "ExecuteTime": {
     "end_time": "2020-01-27T00:20:17.030523Z",
     "start_time": "2020-01-27T00:20:17.005580Z"
    }
   },
   "outputs": [
    {
     "data": {
      "text/plain": [
       "['20181009', '20181015', '20181022', '20181029', '20181105']"
      ]
     },
     "execution_count": 10,
     "metadata": {},
     "output_type": "execute_result"
    }
   ],
   "source": [
    "dates[:5]"
   ]
  },
  {
   "cell_type": "code",
   "execution_count": 11,
   "metadata": {
    "ExecuteTime": {
     "end_time": "2020-01-27T00:20:19.297208Z",
     "start_time": "2020-01-27T00:20:17.040075Z"
    }
   },
   "outputs": [
    {
     "name": "stdout",
     "output_type": "stream",
     "text": [
      "Opening ~/projects/bcc_weekly_reports/data/20181113_report.xlsx\n",
      "Rows: 4, Cols: 19\n",
      "Opening ~/projects/bcc_weekly_reports/data/20190429_report.xlsx\n",
      "Rows: 4, Cols: 24\n",
      "Opening ~/projects/bcc_weekly_reports/data/20181203_report.xlsx\n",
      "Rows: 4, Cols: 19\n",
      "Opening ~/projects/bcc_weekly_reports/data/20190610_report.xlsx\n",
      "Rows: 4, Cols: 24\n",
      "Opening ~/projects/bcc_weekly_reports/data/20190527_report.xlsx\n",
      "Rows: 4, Cols: 24\n",
      "Opening ~/projects/bcc_weekly_reports/data/20191209_report.xlsx\n",
      "Rows: 4, Cols: 24\n",
      "Opening ~/projects/bcc_weekly_reports/data/20191007_report.xlsx\n",
      "Rows: 4, Cols: 24\n",
      "Opening ~/projects/bcc_weekly_reports/data/20190729_report.xlsx\n",
      "Rows: 4, Cols: 24\n",
      "Opening ~/projects/bcc_weekly_reports/data/20190923_report.xlsx\n",
      "Rows: 4, Cols: 24\n",
      "Opening ~/projects/bcc_weekly_reports/data/20190603_report.xlsx\n",
      "Rows: 4, Cols: 24\n",
      "Opening ~/projects/bcc_weekly_reports/data/20181029_report.xlsx\n",
      "Rows: 4, Cols: 19\n",
      "Opening ~/projects/bcc_weekly_reports/data/20181210_report.xlsx\n",
      "Rows: 4, Cols: 19\n",
      "Opening ~/projects/bcc_weekly_reports/data/20190506_report.xlsx\n",
      "Rows: 4, Cols: 24\n",
      "Opening ~/projects/bcc_weekly_reports/data/20190218_update.xlsx\n",
      "Rows: 4, Cols: 22\n",
      "Opening ~/projects/bcc_weekly_reports/data/20190204_update.xlsx\n",
      "Rows: 4, Cols: 21\n",
      "Opening ~/projects/bcc_weekly_reports/data/20190408_report.xlsx\n",
      "Rows: 4, Cols: 23\n",
      "Opening ~/projects/bcc_weekly_reports/data/20190624_report.xlsx\n",
      "Rows: 4, Cols: 24\n",
      "Opening ~/projects/bcc_weekly_reports/data/20190513_report.xlsx\n",
      "Rows: 4, Cols: 24\n",
      "Opening ~/projects/bcc_weekly_reports/data/20181119_report.xlsx\n",
      "Rows: 4, Cols: 19\n",
      "Opening ~/projects/bcc_weekly_reports/data/20190701_report.xlsx\n",
      "Rows: 4, Cols: 24\n",
      "Opening ~/projects/bcc_weekly_reports/data/20181105_report.xlsx\n",
      "Rows: 4, Cols: 19\n",
      "Opening ~/projects/bcc_weekly_reports/data/20191216_report.xlsx\n",
      "Rows: 4, Cols: 24\n",
      "Opening ~/projects/bcc_weekly_reports/data/20190930_report.xlsx\n",
      "Rows: 4, Cols: 24\n",
      "Opening ~/projects/bcc_weekly_reports/data/20200120_report.xlsx\n",
      "Rows: 4, Cols: 24\n",
      "Opening ~/projects/bcc_weekly_reports/data/20190819_report.xlsx\n",
      "Rows: 4, Cols: 24\n",
      "Opening ~/projects/bcc_weekly_reports/data/20191014_report.xlsx\n",
      "Rows: 4, Cols: 24\n",
      "Opening ~/projects/bcc_weekly_reports/data/20190708_report.xlsx\n",
      "Rows: 4, Cols: 24\n",
      "Opening ~/projects/bcc_weekly_reports/data/20190805_report.xlsx\n",
      "Rows: 4, Cols: 24\n",
      "Opening ~/projects/bcc_weekly_reports/data/20191021_report.xlsx\n",
      "Rows: 4, Cols: 24\n",
      "Opening ~/projects/bcc_weekly_reports/data/20181022_report.xlsx\n",
      "Rows: 4, Cols: 19\n",
      "Opening ~/projects/bcc_weekly_reports/data/20191223_report.xlsx\n",
      "Rows: 4, Cols: 24\n",
      "Opening ~/projects/bcc_weekly_reports/data/20191028_report.xlsx\n",
      "Rows: 4, Cols: 24\n",
      "Opening ~/projects/bcc_weekly_reports/data/20190812_report.xlsx\n",
      "Rows: 4, Cols: 24\n",
      "Opening ~/projects/bcc_weekly_reports/data/20181009_report.xlsx\n",
      "Rows: 4, Cols: 19\n",
      "Opening ~/projects/bcc_weekly_reports/data/20190304_update.xlsx\n",
      "Rows: 4, Cols: 22\n",
      "Opening ~/projects/bcc_weekly_reports/data/20190318_update.xlsx\n",
      "Rows: 4, Cols: 22\n",
      "Opening ~/projects/bcc_weekly_reports/data/20181015_report.xlsx\n",
      "Rows: 4, Cols: 19\n",
      "Opening ~/projects/bcc_weekly_reports/data/20190108_report.xlsx\n",
      "Rows: 4, Cols: 20\n",
      "Opening ~/projects/bcc_weekly_reports/data/20191111_report.xlsx\n",
      "Rows: 4, Cols: 24\n",
      "Opening ~/projects/bcc_weekly_reports/data/20190909_report.xlsx\n",
      "Rows: 4, Cols: 24\n",
      "Opening ~/projects/bcc_weekly_reports/data/20181217_report.xlsx\n",
      "Rows: 4, Cols: 20\n",
      "Opening ~/projects/bcc_weekly_reports/data/20191104_report.xlsx\n",
      "Rows: 4, Cols: 24\n",
      "Opening ~/projects/bcc_weekly_reports/data/20190422_report.xlsx\n",
      "Rows: 4, Cols: 24\n",
      "Opening ~/projects/bcc_weekly_reports/data/20191230_report.xlsx\n",
      "Rows: 4, Cols: 24\n",
      "Opening ~/projects/bcc_weekly_reports/data/20200113_report.xlsx\n",
      "Rows: 4, Cols: 24\n",
      "Opening ~/projects/bcc_weekly_reports/data/20190916_report.xlsx\n",
      "Rows: 4, Cols: 24\n",
      "Opening ~/projects/bcc_weekly_reports/data/20181226_report.xlsx\n",
      "Rows: 4, Cols: 20\n",
      "Opening ~/projects/bcc_weekly_reports/data/20191202_report.xlsx\n",
      "Rows: 4, Cols: 24\n",
      "Opening ~/projects/bcc_weekly_reports/data/20190715_report.xlsx\n",
      "Rows: 4, Cols: 24\n",
      "Opening ~/projects/bcc_weekly_reports/data/20190402_update.xlsx\n",
      "Rows: 4, Cols: 22\n",
      "Opening ~/projects/bcc_weekly_reports/data/20190122_update.xlsx\n",
      "Rows: 4, Cols: 20\n",
      "Opening ~/projects/bcc_weekly_reports/data/20200106_report.xlsx\n",
      "Rows: 4, Cols: 24\n",
      "Opening ~/projects/bcc_weekly_reports/data/20190903_report.xlsx\n",
      "Rows: 4, Cols: 24\n",
      "Opening ~/projects/bcc_weekly_reports/data/20190826_report.xlsx\n",
      "Rows: 4, Cols: 24\n",
      "Opening ~/projects/bcc_weekly_reports/data/20190617_report.xlsx\n",
      "Rows: 4, Cols: 24\n",
      "Opening ~/projects/bcc_weekly_reports/data/20190520_report.xlsx\n",
      "Rows: 4, Cols: 24\n",
      "Opening ~/projects/bcc_weekly_reports/data/20191125_report.xlsx\n",
      "Rows: 4, Cols: 24\n",
      "Opening ~/projects/bcc_weekly_reports/data/20190722_report.xlsx\n",
      "Rows: 4, Cols: 24\n",
      "Opening ~/projects/bcc_weekly_reports/data/20181126_report.xlsx\n",
      "Rows: 4, Cols: 19\n",
      "Opening ~/projects/bcc_weekly_reports/data/20190415_report.xlsx\n",
      "Rows: 4, Cols: 24\n"
     ]
    }
   ],
   "source": [
    "totals = pd.DataFrame()\n",
    "product_categories = pd.DataFrame()\n",
    "fail_categories = pd.DataFrame()\n",
    "\n",
    "for file in files:\n",
    "    # Read file, append rows to dataframes, save\n",
    "    \n",
    "    # Read file\n",
    "    wb, sheet = openBCCfile(file=file)\n",
    "    # Read tables\n",
    "    totals = totals.append(importCOAdata(table='totals', file=file))\n",
    "    product_categories = product_categories.append(importCOAdata(table='product_category', file=file))\n",
    "    fail_categories = fail_categories.append(importCOAdata(table='fail_category', file=file))"
   ]
  },
  {
   "cell_type": "code",
   "execution_count": 12,
   "metadata": {
    "ExecuteTime": {
     "end_time": "2020-01-27T00:20:19.308227Z",
     "start_time": "2020-01-27T00:20:19.299774Z"
    }
   },
   "outputs": [],
   "source": [
    "# Remove empty columns\n",
    "del totals['']\n",
    "del product_categories['']\n",
    "del fail_categories['']"
   ]
  },
  {
   "cell_type": "code",
   "execution_count": 13,
   "metadata": {
    "ExecuteTime": {
     "end_time": "2020-01-27T00:20:19.342043Z",
     "start_time": "2020-01-27T00:20:19.313828Z"
    }
   },
   "outputs": [],
   "source": [
    "totals.to_csv(path_or_buf='../../etl_data/totals.csv', index=False)\n",
    "product_categories.to_csv(path_or_buf='../../etl_data/product_categories.csv', index=False)\n",
    "fail_categories.to_csv(path_or_buf='../../etl_data/fail_categories.csv', index=False)"
   ]
  },
  {
   "cell_type": "code",
   "execution_count": 14,
   "metadata": {
    "ExecuteTime": {
     "end_time": "2020-01-27T00:20:19.363562Z",
     "start_time": "2020-01-27T00:20:19.349132Z"
    }
   },
   "outputs": [],
   "source": [
    "# Clean up totals df\n",
    "del totals['Certificates of Analysis Received'] # This column is identical to 'Tested Batches'. Don't need both\n",
    "totals['Percent Failed'] = totals['Failed Batches'] / totals['Tested Batches']"
   ]
  },
  {
   "cell_type": "code",
   "execution_count": 15,
   "metadata": {
    "ExecuteTime": {
     "end_time": "2020-01-27T00:20:19.382834Z",
     "start_time": "2020-01-27T00:20:19.365314Z"
    }
   },
   "outputs": [
    {
     "data": {
      "text/html": [
       "<div>\n",
       "<style scoped>\n",
       "    .dataframe tbody tr th:only-of-type {\n",
       "        vertical-align: middle;\n",
       "    }\n",
       "\n",
       "    .dataframe tbody tr th {\n",
       "        vertical-align: top;\n",
       "    }\n",
       "\n",
       "    .dataframe thead th {\n",
       "        text-align: right;\n",
       "    }\n",
       "</style>\n",
       "<table border=\"1\" class=\"dataframe\">\n",
       "  <thead>\n",
       "    <tr style=\"text-align: right;\">\n",
       "      <th></th>\n",
       "      <th>Tested Batches</th>\n",
       "      <th>Failed Batches</th>\n",
       "      <th>Date</th>\n",
       "      <th>Percent Failed</th>\n",
       "    </tr>\n",
       "  </thead>\n",
       "  <tbody>\n",
       "    <tr>\n",
       "      <th>0</th>\n",
       "      <td>20797</td>\n",
       "      <td>3164</td>\n",
       "      <td>2018-11-13</td>\n",
       "      <td>0.152137</td>\n",
       "    </tr>\n",
       "    <tr>\n",
       "      <th>0</th>\n",
       "      <td>46503</td>\n",
       "      <td>4679</td>\n",
       "      <td>2019-04-29</td>\n",
       "      <td>0.100617</td>\n",
       "    </tr>\n",
       "    <tr>\n",
       "      <th>0</th>\n",
       "      <td>23864</td>\n",
       "      <td>3373</td>\n",
       "      <td>2018-12-03</td>\n",
       "      <td>0.141343</td>\n",
       "    </tr>\n",
       "    <tr>\n",
       "      <th>0</th>\n",
       "      <td>52471</td>\n",
       "      <td>4906</td>\n",
       "      <td>2019-06-10</td>\n",
       "      <td>0.093499</td>\n",
       "    </tr>\n",
       "    <tr>\n",
       "      <th>0</th>\n",
       "      <td>50811</td>\n",
       "      <td>4831</td>\n",
       "      <td>2019-05-27</td>\n",
       "      <td>0.095078</td>\n",
       "    </tr>\n",
       "  </tbody>\n",
       "</table>\n",
       "</div>"
      ],
      "text/plain": [
       "   Tested Batches  Failed Batches       Date  Percent Failed\n",
       "0           20797            3164 2018-11-13        0.152137\n",
       "0           46503            4679 2019-04-29        0.100617\n",
       "0           23864            3373 2018-12-03        0.141343\n",
       "0           52471            4906 2019-06-10        0.093499\n",
       "0           50811            4831 2019-05-27        0.095078"
      ]
     },
     "execution_count": 15,
     "metadata": {},
     "output_type": "execute_result"
    }
   ],
   "source": [
    "totals.head()"
   ]
  },
  {
   "cell_type": "code",
   "execution_count": 16,
   "metadata": {
    "ExecuteTime": {
     "end_time": "2020-01-27T00:20:19.455378Z",
     "start_time": "2020-01-27T00:20:19.398346Z"
    }
   },
   "outputs": [
    {
     "data": {
      "text/html": [
       "<div>\n",
       "<style scoped>\n",
       "    .dataframe tbody tr th:only-of-type {\n",
       "        vertical-align: middle;\n",
       "    }\n",
       "\n",
       "    .dataframe tbody tr th {\n",
       "        vertical-align: top;\n",
       "    }\n",
       "\n",
       "    .dataframe thead th {\n",
       "        text-align: right;\n",
       "    }\n",
       "</style>\n",
       "<table border=\"1\" class=\"dataframe\">\n",
       "  <thead>\n",
       "    <tr style=\"text-align: right;\">\n",
       "      <th></th>\n",
       "      <th>Tested Batches</th>\n",
       "      <th>Date</th>\n",
       "      <th>Category</th>\n",
       "      <th>Failed Batches</th>\n",
       "      <th>Percent Failed</th>\n",
       "    </tr>\n",
       "  </thead>\n",
       "  <tbody>\n",
       "    <tr>\n",
       "      <th>0</th>\n",
       "      <td>10415</td>\n",
       "      <td>2018-11-13</td>\n",
       "      <td>Flower</td>\n",
       "      <td>1029.0</td>\n",
       "      <td>0.098800</td>\n",
       "    </tr>\n",
       "    <tr>\n",
       "      <th>1</th>\n",
       "      <td>6464</td>\n",
       "      <td>2018-11-13</td>\n",
       "      <td>Inhalable\\n(cartridges, waxes, etc.)</td>\n",
       "      <td>1054.0</td>\n",
       "      <td>0.163057</td>\n",
       "    </tr>\n",
       "    <tr>\n",
       "      <th>2</th>\n",
       "      <td>3918</td>\n",
       "      <td>2018-11-13</td>\n",
       "      <td>Other\\n(edibles, tinctures, topicals, etc.)</td>\n",
       "      <td>1081.0</td>\n",
       "      <td>0.275906</td>\n",
       "    </tr>\n",
       "    <tr>\n",
       "      <th>3</th>\n",
       "      <td>20797</td>\n",
       "      <td>2018-11-13</td>\n",
       "      <td>Total</td>\n",
       "      <td>3164.0</td>\n",
       "      <td>0.152137</td>\n",
       "    </tr>\n",
       "    <tr>\n",
       "      <th>0</th>\n",
       "      <td>23347</td>\n",
       "      <td>2019-04-29</td>\n",
       "      <td>Flower</td>\n",
       "      <td>1627.0</td>\n",
       "      <td>0.069688</td>\n",
       "    </tr>\n",
       "  </tbody>\n",
       "</table>\n",
       "</div>"
      ],
      "text/plain": [
       "   Tested Batches       Date                                     Category  \\\n",
       "0           10415 2018-11-13                                       Flower   \n",
       "1            6464 2018-11-13         Inhalable\\n(cartridges, waxes, etc.)   \n",
       "2            3918 2018-11-13  Other\\n(edibles, tinctures, topicals, etc.)   \n",
       "3           20797 2018-11-13                                        Total   \n",
       "0           23347 2019-04-29                                       Flower   \n",
       "\n",
       "   Failed Batches  Percent Failed  \n",
       "0          1029.0        0.098800  \n",
       "1          1054.0        0.163057  \n",
       "2          1081.0        0.275906  \n",
       "3          3164.0        0.152137  \n",
       "0          1627.0        0.069688  "
      ]
     },
     "execution_count": 16,
     "metadata": {},
     "output_type": "execute_result"
    }
   ],
   "source": [
    "# Clean up product_categories df\n",
    "\n",
    "# Rename Columns\n",
    "product_categories['Category'] = product_categories['Tested Batches By Category']\n",
    "del product_categories['Tested Batches By Category'] \n",
    "product_categories['Failed Batches'] = product_categories['Failed Batches By Category']\n",
    "del product_categories['Failed Batches By Category']\n",
    "\n",
    "# Some values has ',' in them and are thus 'objects'\n",
    "# Convert these to ints\n",
    "def sanitize(data):\n",
    "    valid = '1234567890.' #valid characters for a float\n",
    "    try: \n",
    "        ''.join(filter(lambda char: char in valid, data))\n",
    "    except: \n",
    "        return data\n",
    "    else: \n",
    "        return int(''.join(filter(lambda char: char in valid, data)))\n",
    "product_categories['Failed Batches'] = product_categories['Failed Batches'].apply(sanitize)\n",
    "product_categories['Failed Batches'] = product_categories['Failed Batches'].astype('int')\n",
    "\n",
    "# Remove ':' from Category strings\n",
    "def colonRemove(data):\n",
    "    try: \n",
    "        data.replace(':','')\n",
    "    except: \n",
    "        return data\n",
    "    else: \n",
    "        return data.replace(':','')\n",
    "product_categories['Category'] = product_categories['Category'].apply(colonRemove)\n",
    "\n",
    "\n",
    "# Calculated columns\n",
    "product_categories['Percent Failed'] = product_categories['Failed Batches'] / product_categories['Tested Batches']\n",
    "\n",
    "\n",
    "product_categories.head()"
   ]
  },
  {
   "cell_type": "code",
   "execution_count": 18,
   "metadata": {
    "ExecuteTime": {
     "end_time": "2020-01-27T00:20:41.444854Z",
     "start_time": "2020-01-27T00:20:41.434240Z"
    }
   },
   "outputs": [
    {
     "data": {
      "text/plain": [
       "Tested Batches             int64\n",
       "Date              datetime64[ns]\n",
       "Category                  object\n",
       "Failed Batches           float64\n",
       "Percent Failed           float64\n",
       "dtype: object"
      ]
     },
     "execution_count": 18,
     "metadata": {},
     "output_type": "execute_result"
    }
   ],
   "source": [
    "product_categories.dtypes"
   ]
  },
  {
   "cell_type": "code",
   "execution_count": 28,
   "metadata": {
    "ExecuteTime": {
     "end_time": "2020-01-27T00:30:43.640653Z",
     "start_time": "2020-01-27T00:30:43.606928Z"
    }
   },
   "outputs": [
    {
     "data": {
      "text/html": [
       "<div>\n",
       "<style scoped>\n",
       "    .dataframe tbody tr th:only-of-type {\n",
       "        vertical-align: middle;\n",
       "    }\n",
       "\n",
       "    .dataframe tbody tr th {\n",
       "        vertical-align: top;\n",
       "    }\n",
       "\n",
       "    .dataframe thead tr th {\n",
       "        text-align: left;\n",
       "    }\n",
       "\n",
       "    .dataframe thead tr:last-of-type th {\n",
       "        text-align: right;\n",
       "    }\n",
       "</style>\n",
       "<table border=\"1\" class=\"dataframe\">\n",
       "  <thead>\n",
       "    <tr>\n",
       "      <th></th>\n",
       "      <th colspan=\"4\" halign=\"left\">Tested Batches</th>\n",
       "      <th colspan=\"4\" halign=\"left\">Failed Batches</th>\n",
       "      <th colspan=\"4\" halign=\"left\">Percent Failed</th>\n",
       "    </tr>\n",
       "    <tr>\n",
       "      <th>Category</th>\n",
       "      <th>Flower</th>\n",
       "      <th>Inhalable\\n(cartridges, waxes, etc.)</th>\n",
       "      <th>Other\\n(edibles, tinctures, topicals, etc.)</th>\n",
       "      <th>Total</th>\n",
       "      <th>Flower</th>\n",
       "      <th>Inhalable\\n(cartridges, waxes, etc.)</th>\n",
       "      <th>Other\\n(edibles, tinctures, topicals, etc.)</th>\n",
       "      <th>Total</th>\n",
       "      <th>Flower</th>\n",
       "      <th>Inhalable\\n(cartridges, waxes, etc.)</th>\n",
       "      <th>Other\\n(edibles, tinctures, topicals, etc.)</th>\n",
       "      <th>Total</th>\n",
       "    </tr>\n",
       "    <tr>\n",
       "      <th>Date</th>\n",
       "      <th></th>\n",
       "      <th></th>\n",
       "      <th></th>\n",
       "      <th></th>\n",
       "      <th></th>\n",
       "      <th></th>\n",
       "      <th></th>\n",
       "      <th></th>\n",
       "      <th></th>\n",
       "      <th></th>\n",
       "      <th></th>\n",
       "      <th></th>\n",
       "    </tr>\n",
       "  </thead>\n",
       "  <tbody>\n",
       "    <tr>\n",
       "      <th>2018-10-09</th>\n",
       "      <td>7993</td>\n",
       "      <td>4991</td>\n",
       "      <td>3065</td>\n",
       "      <td>16050</td>\n",
       "      <td>853.0</td>\n",
       "      <td>915.0</td>\n",
       "      <td>915.0</td>\n",
       "      <td>2684.0</td>\n",
       "      <td>0.106718</td>\n",
       "      <td>0.183330</td>\n",
       "      <td>0.298532</td>\n",
       "      <td>0.167227</td>\n",
       "    </tr>\n",
       "    <tr>\n",
       "      <th>2018-10-15</th>\n",
       "      <td>8446</td>\n",
       "      <td>5208</td>\n",
       "      <td>3215</td>\n",
       "      <td>16869</td>\n",
       "      <td>918.0</td>\n",
       "      <td>942.0</td>\n",
       "      <td>944.0</td>\n",
       "      <td>2804.0</td>\n",
       "      <td>0.108691</td>\n",
       "      <td>0.180876</td>\n",
       "      <td>0.293624</td>\n",
       "      <td>0.166222</td>\n",
       "    </tr>\n",
       "    <tr>\n",
       "      <th>2018-10-22</th>\n",
       "      <td>8978</td>\n",
       "      <td>5483</td>\n",
       "      <td>3372</td>\n",
       "      <td>17833</td>\n",
       "      <td>933.0</td>\n",
       "      <td>966.0</td>\n",
       "      <td>969.0</td>\n",
       "      <td>2868.0</td>\n",
       "      <td>0.103921</td>\n",
       "      <td>0.176181</td>\n",
       "      <td>0.287367</td>\n",
       "      <td>0.160825</td>\n",
       "    </tr>\n",
       "    <tr>\n",
       "      <th>2018-10-29</th>\n",
       "      <td>9426</td>\n",
       "      <td>5858</td>\n",
       "      <td>3579</td>\n",
       "      <td>18863</td>\n",
       "      <td>968.0</td>\n",
       "      <td>1006.0</td>\n",
       "      <td>1011.0</td>\n",
       "      <td>2985.0</td>\n",
       "      <td>0.102695</td>\n",
       "      <td>0.171731</td>\n",
       "      <td>0.282481</td>\n",
       "      <td>0.158246</td>\n",
       "    </tr>\n",
       "    <tr>\n",
       "      <th>2018-11-05</th>\n",
       "      <td>9829</td>\n",
       "      <td>6138</td>\n",
       "      <td>3740</td>\n",
       "      <td>19707</td>\n",
       "      <td>991.0</td>\n",
       "      <td>1026.0</td>\n",
       "      <td>1036.0</td>\n",
       "      <td>3053.0</td>\n",
       "      <td>0.100824</td>\n",
       "      <td>0.167155</td>\n",
       "      <td>0.277005</td>\n",
       "      <td>0.154920</td>\n",
       "    </tr>\n",
       "  </tbody>\n",
       "</table>\n",
       "</div>"
      ],
      "text/plain": [
       "           Tested Batches                                       \\\n",
       "Category           Flower Inhalable\\n(cartridges, waxes, etc.)   \n",
       "Date                                                             \n",
       "2018-10-09           7993                                 4991   \n",
       "2018-10-15           8446                                 5208   \n",
       "2018-10-22           8978                                 5483   \n",
       "2018-10-29           9426                                 5858   \n",
       "2018-11-05           9829                                 6138   \n",
       "\n",
       "                                                              Failed Batches  \\\n",
       "Category   Other\\n(edibles, tinctures, topicals, etc.)  Total         Flower   \n",
       "Date                                                                           \n",
       "2018-10-09                                        3065  16050          853.0   \n",
       "2018-10-15                                        3215  16869          918.0   \n",
       "2018-10-22                                        3372  17833          933.0   \n",
       "2018-10-29                                        3579  18863          968.0   \n",
       "2018-11-05                                        3740  19707          991.0   \n",
       "\n",
       "                                                 \\\n",
       "Category   Inhalable\\n(cartridges, waxes, etc.)   \n",
       "Date                                              \n",
       "2018-10-09                                915.0   \n",
       "2018-10-15                                942.0   \n",
       "2018-10-22                                966.0   \n",
       "2018-10-29                               1006.0   \n",
       "2018-11-05                               1026.0   \n",
       "\n",
       "                                                               Percent Failed  \\\n",
       "Category   Other\\n(edibles, tinctures, topicals, etc.)   Total         Flower   \n",
       "Date                                                                            \n",
       "2018-10-09                                       915.0  2684.0       0.106718   \n",
       "2018-10-15                                       944.0  2804.0       0.108691   \n",
       "2018-10-22                                       969.0  2868.0       0.103921   \n",
       "2018-10-29                                      1011.0  2985.0       0.102695   \n",
       "2018-11-05                                      1036.0  3053.0       0.100824   \n",
       "\n",
       "                                                 \\\n",
       "Category   Inhalable\\n(cartridges, waxes, etc.)   \n",
       "Date                                              \n",
       "2018-10-09                             0.183330   \n",
       "2018-10-15                             0.180876   \n",
       "2018-10-22                             0.176181   \n",
       "2018-10-29                             0.171731   \n",
       "2018-11-05                             0.167155   \n",
       "\n",
       "                                                                  \n",
       "Category   Other\\n(edibles, tinctures, topicals, etc.)     Total  \n",
       "Date                                                              \n",
       "2018-10-09                                    0.298532  0.167227  \n",
       "2018-10-15                                    0.293624  0.166222  \n",
       "2018-10-22                                    0.287367  0.160825  \n",
       "2018-10-29                                    0.282481  0.158246  \n",
       "2018-11-05                                    0.277005  0.154920  "
      ]
     },
     "execution_count": 28,
     "metadata": {},
     "output_type": "execute_result"
    }
   ],
   "source": [
    "# new_cols = ['Flower']\n",
    "pc_pivot = product_categories.pivot(index='Date', columns='Category')\n",
    "# May need to swap levels of hierarchical indeces if Tableau doesn't like this version\n",
    "# pc_pivot.swaplevel(axis=1)\n",
    "pc_pivot.head()"
   ]
  },
  {
   "cell_type": "code",
   "execution_count": 32,
   "metadata": {
    "ExecuteTime": {
     "end_time": "2020-01-27T00:33:26.501067Z",
     "start_time": "2020-01-27T00:33:26.456643Z"
    }
   },
   "outputs": [
    {
     "data": {
      "text/plain": [
       "Date              datetime64[ns]\n",
       "Failed Batches            object\n",
       "Failure Mode              object\n",
       "dtype: object"
      ]
     },
     "execution_count": 32,
     "metadata": {},
     "output_type": "execute_result"
    }
   ],
   "source": [
    "# Clean up fail_categories df\n",
    "fail_categories['Failed Batches'] = fail_categories['Failed Batches By Category']\n",
    "del fail_categories['Failed Batches By Category']\n",
    "fail_categories['Failure Mode'] = fail_categories['*Reasons For Failure']\n",
    "del fail_categories['*Reasons For Failure']\n",
    "\n",
    "fail_categories.dtypes"
   ]
  },
  {
   "cell_type": "code",
   "execution_count": 33,
   "metadata": {
    "ExecuteTime": {
     "end_time": "2020-01-27T00:33:27.419864Z",
     "start_time": "2020-01-27T00:33:27.400015Z"
    }
   },
   "outputs": [
    {
     "data": {
      "text/html": [
       "<div>\n",
       "<style scoped>\n",
       "    .dataframe tbody tr th:only-of-type {\n",
       "        vertical-align: middle;\n",
       "    }\n",
       "\n",
       "    .dataframe tbody tr th {\n",
       "        vertical-align: top;\n",
       "    }\n",
       "\n",
       "    .dataframe thead th {\n",
       "        text-align: right;\n",
       "    }\n",
       "</style>\n",
       "<table border=\"1\" class=\"dataframe\">\n",
       "  <thead>\n",
       "    <tr style=\"text-align: right;\">\n",
       "      <th></th>\n",
       "      <th>Date</th>\n",
       "      <th>Failed Batches</th>\n",
       "      <th>Failure Mode</th>\n",
       "    </tr>\n",
       "  </thead>\n",
       "  <tbody>\n",
       "    <tr>\n",
       "      <th>0</th>\n",
       "      <td>2018-11-13</td>\n",
       "      <td>2043</td>\n",
       "      <td>Label Claims:</td>\n",
       "    </tr>\n",
       "    <tr>\n",
       "      <th>1</th>\n",
       "      <td>2018-11-13</td>\n",
       "      <td>685</td>\n",
       "      <td>Pesticides:</td>\n",
       "    </tr>\n",
       "    <tr>\n",
       "      <th>2</th>\n",
       "      <td>2018-11-13</td>\n",
       "      <td>380</td>\n",
       "      <td>Microbial Impurities:</td>\n",
       "    </tr>\n",
       "    <tr>\n",
       "      <th>3</th>\n",
       "      <td>2018-11-13</td>\n",
       "      <td>171</td>\n",
       "      <td>Residual Solvents:</td>\n",
       "    </tr>\n",
       "    <tr>\n",
       "      <th>4</th>\n",
       "      <td>2018-11-13</td>\n",
       "      <td>35</td>\n",
       "      <td>Homogeneity:</td>\n",
       "    </tr>\n",
       "  </tbody>\n",
       "</table>\n",
       "</div>"
      ],
      "text/plain": [
       "        Date Failed Batches           Failure Mode\n",
       "0 2018-11-13           2043          Label Claims:\n",
       "1 2018-11-13            685            Pesticides:\n",
       "2 2018-11-13            380  Microbial Impurities:\n",
       "3 2018-11-13            171     Residual Solvents:\n",
       "4 2018-11-13             35           Homogeneity:"
      ]
     },
     "execution_count": 33,
     "metadata": {},
     "output_type": "execute_result"
    }
   ],
   "source": [
    "fail_categories.head()"
   ]
  },
  {
   "cell_type": "code",
   "execution_count": null,
   "metadata": {},
   "outputs": [],
   "source": [
    "fail_categories['Failure Mode'] = fail_categories['Failure Reason'].apply(colonRemove)"
   ]
  }
 ],
 "metadata": {
  "kernelspec": {
   "display_name": "Python 3",
   "language": "python",
   "name": "python3"
  },
  "language_info": {
   "codemirror_mode": {
    "name": "ipython",
    "version": 3
   },
   "file_extension": ".py",
   "mimetype": "text/x-python",
   "name": "python",
   "nbconvert_exporter": "python",
   "pygments_lexer": "ipython3",
   "version": "3.7.6"
  },
  "toc": {
   "base_numbering": 1,
   "nav_menu": {},
   "number_sections": true,
   "sideBar": true,
   "skip_h1_title": false,
   "title_cell": "Table of Contents",
   "title_sidebar": "Contents",
   "toc_cell": false,
   "toc_position": {},
   "toc_section_display": true,
   "toc_window_display": false
  }
 },
 "nbformat": 4,
 "nbformat_minor": 2
}
