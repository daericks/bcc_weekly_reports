{
 "cells": [
  {
   "cell_type": "code",
   "execution_count": 1,
   "metadata": {
    "ExecuteTime": {
     "end_time": "2020-01-26T00:36:37.200172Z",
     "start_time": "2020-01-26T00:36:35.666498Z"
    }
   },
   "outputs": [],
   "source": [
    "import xlrd\n",
    "import pandas as pd"
   ]
  },
  {
   "cell_type": "code",
   "execution_count": 2,
   "metadata": {
    "ExecuteTime": {
     "end_time": "2020-01-26T00:36:37.215550Z",
     "start_time": "2020-01-26T00:36:37.203830Z"
    }
   },
   "outputs": [],
   "source": [
    "def dateFromFilename(file='20200120_report.xlsx'):\n",
    "    date = file.replace('_report.xlsx', '').replace('_update.xlsx', '')\n",
    "    return date"
   ]
  },
  {
   "cell_type": "code",
   "execution_count": 3,
   "metadata": {
    "ExecuteTime": {
     "end_time": "2020-01-26T00:36:37.280871Z",
     "start_time": "2020-01-26T00:36:37.221842Z"
    }
   },
   "outputs": [
    {
     "name": "stdout",
     "output_type": "stream",
     "text": [
      "Opening ~/projects/bcc_weekly_reports/data/20200120_report.xlsx\n",
      "Rows: 4, Cols: 24\n"
     ]
    }
   ],
   "source": [
    "def openBCCfile(file = '20200120_report.xlsx'):\n",
    "    date = dateFromFilename(file)\n",
    "    data_dir = '~/projects/bcc_weekly_reports/data/'\n",
    "    loc = (data_dir + file)\n",
    "\n",
    "    print('Opening {}'.format(loc))\n",
    "    wb = xlrd.open_workbook(loc)\n",
    "    sheet = wb.sheet_by_name('COA Stats')\n",
    "#     if '_update' in file:\n",
    "#         sheet = wb.sheet_by_index(0)\n",
    "#     else:\n",
    "#         sheet = wb.sheet_by_index(2)\n",
    "    print('Rows: {}, Cols: {}'.format(sheet.ncols, sheet.nrows))\n",
    "    \n",
    "    return wb, sheet\n",
    "\n",
    "wb, sheet = openBCCfile(file = '20200120_report.xlsx')"
   ]
  },
  {
   "cell_type": "code",
   "execution_count": 4,
   "metadata": {
    "ExecuteTime": {
     "end_time": "2020-01-26T00:36:37.295217Z",
     "start_time": "2020-01-26T00:36:37.283682Z"
    }
   },
   "outputs": [],
   "source": [
    "def importCOAdata(table='totals', file = '20200120_report.xlsx'):\n",
    "    '''\n",
    "    Return a df of one of the 3 tables found in the COA weekly report\n",
    "    '''\n",
    "    # Which table to import\n",
    "    if table == 'totals':\n",
    "        rows = range(1,3)\n",
    "    elif table == 'product_category':\n",
    "        rows = range(4,9)\n",
    "    elif table == 'fail_category':\n",
    "        rows = range(9,sheet.nrows)\n",
    "\n",
    "    # Create dataframe from table\n",
    "    data = []\n",
    "    for row in rows:\n",
    "        data.append(sheet.row_values(row))\n",
    "    data_df = pd.DataFrame(data=data[1:], columns=data[0], dtype='int')\n",
    "    \n",
    "    # Create date column and make dtype=datetime\n",
    "    date = dateFromFilename(file)\n",
    "    data_df['date'] = pd.to_datetime(date)\n",
    "    \n",
    "    return data_df\n"
   ]
  },
  {
   "cell_type": "code",
   "execution_count": 5,
   "metadata": {
    "ExecuteTime": {
     "end_time": "2020-01-26T00:36:37.363013Z",
     "start_time": "2020-01-26T00:36:37.298250Z"
    }
   },
   "outputs": [
    {
     "data": {
      "text/html": [
       "<div>\n",
       "<style scoped>\n",
       "    .dataframe tbody tr th:only-of-type {\n",
       "        vertical-align: middle;\n",
       "    }\n",
       "\n",
       "    .dataframe tbody tr th {\n",
       "        vertical-align: top;\n",
       "    }\n",
       "\n",
       "    .dataframe thead th {\n",
       "        text-align: right;\n",
       "    }\n",
       "</style>\n",
       "<table border=\"1\" class=\"dataframe\">\n",
       "  <thead>\n",
       "    <tr style=\"text-align: right;\">\n",
       "      <th></th>\n",
       "      <th>Certificates of Analysis Received</th>\n",
       "      <th>Tested Batches</th>\n",
       "      <th></th>\n",
       "      <th>Failed Batches</th>\n",
       "      <th>date</th>\n",
       "    </tr>\n",
       "  </thead>\n",
       "  <tbody>\n",
       "    <tr>\n",
       "      <th>0</th>\n",
       "      <td>90793</td>\n",
       "      <td>90793</td>\n",
       "      <td></td>\n",
       "      <td>6124</td>\n",
       "      <td>2020-01-20</td>\n",
       "    </tr>\n",
       "  </tbody>\n",
       "</table>\n",
       "</div>"
      ],
      "text/plain": [
       "   Certificates of Analysis Received  Tested Batches    Failed Batches  \\\n",
       "0                              90793           90793              6124   \n",
       "\n",
       "        date  \n",
       "0 2020-01-20  "
      ]
     },
     "execution_count": 5,
     "metadata": {},
     "output_type": "execute_result"
    }
   ],
   "source": [
    "totals = importCOAdata(table='totals')\n",
    "totals"
   ]
  },
  {
   "cell_type": "code",
   "execution_count": 6,
   "metadata": {
    "ExecuteTime": {
     "end_time": "2020-01-26T00:36:37.391629Z",
     "start_time": "2020-01-26T00:36:37.367123Z"
    }
   },
   "outputs": [
    {
     "data": {
      "text/html": [
       "<div>\n",
       "<style scoped>\n",
       "    .dataframe tbody tr th:only-of-type {\n",
       "        vertical-align: middle;\n",
       "    }\n",
       "\n",
       "    .dataframe tbody tr th {\n",
       "        vertical-align: top;\n",
       "    }\n",
       "\n",
       "    .dataframe thead th {\n",
       "        text-align: right;\n",
       "    }\n",
       "</style>\n",
       "<table border=\"1\" class=\"dataframe\">\n",
       "  <thead>\n",
       "    <tr style=\"text-align: right;\">\n",
       "      <th></th>\n",
       "      <th>Tested Batches By Category</th>\n",
       "      <th>Tested Batches</th>\n",
       "      <th></th>\n",
       "      <th>Failed Batches By Category</th>\n",
       "      <th>date</th>\n",
       "    </tr>\n",
       "  </thead>\n",
       "  <tbody>\n",
       "    <tr>\n",
       "      <th>0</th>\n",
       "      <td>Flower:</td>\n",
       "      <td>44108</td>\n",
       "      <td></td>\n",
       "      <td>2401</td>\n",
       "      <td>2020-01-20</td>\n",
       "    </tr>\n",
       "    <tr>\n",
       "      <th>1</th>\n",
       "      <td>Inhalable\\n(cartridges, waxes, etc.):</td>\n",
       "      <td>31715</td>\n",
       "      <td></td>\n",
       "      <td>2170</td>\n",
       "      <td>2020-01-20</td>\n",
       "    </tr>\n",
       "    <tr>\n",
       "      <th>2</th>\n",
       "      <td>Other\\n(edibles, tinctures, topicals, etc.):</td>\n",
       "      <td>14970</td>\n",
       "      <td></td>\n",
       "      <td>1553</td>\n",
       "      <td>2020-01-20</td>\n",
       "    </tr>\n",
       "    <tr>\n",
       "      <th>3</th>\n",
       "      <td>Total:</td>\n",
       "      <td>90793</td>\n",
       "      <td></td>\n",
       "      <td>6124</td>\n",
       "      <td>2020-01-20</td>\n",
       "    </tr>\n",
       "  </tbody>\n",
       "</table>\n",
       "</div>"
      ],
      "text/plain": [
       "                     Tested Batches By Category  Tested Batches    \\\n",
       "0                                       Flower:           44108     \n",
       "1         Inhalable\\n(cartridges, waxes, etc.):           31715     \n",
       "2  Other\\n(edibles, tinctures, topicals, etc.):           14970     \n",
       "3                                        Total:           90793     \n",
       "\n",
       "   Failed Batches By Category       date  \n",
       "0                        2401 2020-01-20  \n",
       "1                        2170 2020-01-20  \n",
       "2                        1553 2020-01-20  \n",
       "3                        6124 2020-01-20  "
      ]
     },
     "execution_count": 6,
     "metadata": {},
     "output_type": "execute_result"
    }
   ],
   "source": [
    "product_categories = importCOAdata(table='product_category')\n",
    "product_categories"
   ]
  },
  {
   "cell_type": "code",
   "execution_count": 7,
   "metadata": {
    "ExecuteTime": {
     "end_time": "2020-01-26T00:36:37.419458Z",
     "start_time": "2020-01-26T00:36:37.396681Z"
    }
   },
   "outputs": [
    {
     "data": {
      "text/html": [
       "<div>\n",
       "<style scoped>\n",
       "    .dataframe tbody tr th:only-of-type {\n",
       "        vertical-align: middle;\n",
       "    }\n",
       "\n",
       "    .dataframe tbody tr th {\n",
       "        vertical-align: top;\n",
       "    }\n",
       "\n",
       "    .dataframe thead th {\n",
       "        text-align: right;\n",
       "    }\n",
       "</style>\n",
       "<table border=\"1\" class=\"dataframe\">\n",
       "  <thead>\n",
       "    <tr style=\"text-align: right;\">\n",
       "      <th></th>\n",
       "      <th>*Reasons For Failure</th>\n",
       "      <th></th>\n",
       "      <th>Failed Batches By Category</th>\n",
       "      <th></th>\n",
       "      <th>date</th>\n",
       "    </tr>\n",
       "  </thead>\n",
       "  <tbody>\n",
       "    <tr>\n",
       "      <th>0</th>\n",
       "      <td>Label Claims:</td>\n",
       "      <td></td>\n",
       "      <td>2379</td>\n",
       "      <td></td>\n",
       "      <td>2020-01-20</td>\n",
       "    </tr>\n",
       "    <tr>\n",
       "      <th>1</th>\n",
       "      <td>Pesticides:</td>\n",
       "      <td></td>\n",
       "      <td>1790</td>\n",
       "      <td></td>\n",
       "      <td>2020-01-20</td>\n",
       "    </tr>\n",
       "    <tr>\n",
       "      <th>2</th>\n",
       "      <td>Microbial Impurities:</td>\n",
       "      <td></td>\n",
       "      <td>929</td>\n",
       "      <td></td>\n",
       "      <td>2020-01-20</td>\n",
       "    </tr>\n",
       "    <tr>\n",
       "      <th>3</th>\n",
       "      <td>Residual Solvents:</td>\n",
       "      <td></td>\n",
       "      <td>361</td>\n",
       "      <td></td>\n",
       "      <td>2020-01-20</td>\n",
       "    </tr>\n",
       "    <tr>\n",
       "      <th>4</th>\n",
       "      <td>Homogeneity:</td>\n",
       "      <td></td>\n",
       "      <td>36</td>\n",
       "      <td></td>\n",
       "      <td>2020-01-20</td>\n",
       "    </tr>\n",
       "    <tr>\n",
       "      <th>5</th>\n",
       "      <td>Foreign Material:</td>\n",
       "      <td></td>\n",
       "      <td>26</td>\n",
       "      <td></td>\n",
       "      <td>2020-01-20</td>\n",
       "    </tr>\n",
       "    <tr>\n",
       "      <th>6</th>\n",
       "      <td>Moisture:</td>\n",
       "      <td></td>\n",
       "      <td>71</td>\n",
       "      <td></td>\n",
       "      <td>2020-01-20</td>\n",
       "    </tr>\n",
       "    <tr>\n",
       "      <th>7</th>\n",
       "      <td>Heavy Metals:</td>\n",
       "      <td></td>\n",
       "      <td>541</td>\n",
       "      <td></td>\n",
       "      <td>2020-01-20</td>\n",
       "    </tr>\n",
       "    <tr>\n",
       "      <th>8</th>\n",
       "      <td>Water Activity:</td>\n",
       "      <td></td>\n",
       "      <td>51</td>\n",
       "      <td></td>\n",
       "      <td>2020-01-20</td>\n",
       "    </tr>\n",
       "    <tr>\n",
       "      <th>9</th>\n",
       "      <td>Cannabinoids:</td>\n",
       "      <td></td>\n",
       "      <td>77</td>\n",
       "      <td></td>\n",
       "      <td>2020-01-20</td>\n",
       "    </tr>\n",
       "    <tr>\n",
       "      <th>10</th>\n",
       "      <td>Mycotoxins:</td>\n",
       "      <td></td>\n",
       "      <td>10</td>\n",
       "      <td></td>\n",
       "      <td>2020-01-20</td>\n",
       "    </tr>\n",
       "    <tr>\n",
       "      <th>11</th>\n",
       "      <td>Injurious to Human Health:</td>\n",
       "      <td></td>\n",
       "      <td>2</td>\n",
       "      <td></td>\n",
       "      <td>2020-01-20</td>\n",
       "    </tr>\n",
       "    <tr>\n",
       "      <th>12</th>\n",
       "      <td>Total:</td>\n",
       "      <td></td>\n",
       "      <td>6273</td>\n",
       "      <td></td>\n",
       "      <td>2020-01-20</td>\n",
       "    </tr>\n",
       "    <tr>\n",
       "      <th>13</th>\n",
       "      <td>*Batches can fail for multiple categories</td>\n",
       "      <td></td>\n",
       "      <td></td>\n",
       "      <td></td>\n",
       "      <td>2020-01-20</td>\n",
       "    </tr>\n",
       "  </tbody>\n",
       "</table>\n",
       "</div>"
      ],
      "text/plain": [
       "                         *Reasons For Failure   Failed Batches By Category    \\\n",
       "0                               Label Claims:                         2379     \n",
       "1                                 Pesticides:                         1790     \n",
       "2                       Microbial Impurities:                          929     \n",
       "3                          Residual Solvents:                          361     \n",
       "4                                Homogeneity:                           36     \n",
       "5                           Foreign Material:                           26     \n",
       "6                                   Moisture:                           71     \n",
       "7                               Heavy Metals:                          541     \n",
       "8                             Water Activity:                           51     \n",
       "9                               Cannabinoids:                           77     \n",
       "10                                Mycotoxins:                           10     \n",
       "11                 Injurious to Human Health:                            2     \n",
       "12                                     Total:                         6273     \n",
       "13  *Batches can fail for multiple categories                                  \n",
       "\n",
       "         date  \n",
       "0  2020-01-20  \n",
       "1  2020-01-20  \n",
       "2  2020-01-20  \n",
       "3  2020-01-20  \n",
       "4  2020-01-20  \n",
       "5  2020-01-20  \n",
       "6  2020-01-20  \n",
       "7  2020-01-20  \n",
       "8  2020-01-20  \n",
       "9  2020-01-20  \n",
       "10 2020-01-20  \n",
       "11 2020-01-20  \n",
       "12 2020-01-20  \n",
       "13 2020-01-20  "
      ]
     },
     "execution_count": 7,
     "metadata": {},
     "output_type": "execute_result"
    }
   ],
   "source": [
    "fail_categories = importCOAdata(table='fail_category')\n",
    "fail_categories"
   ]
  },
  {
   "cell_type": "code",
   "execution_count": 8,
   "metadata": {
    "ExecuteTime": {
     "end_time": "2020-01-26T00:36:37.430002Z",
     "start_time": "2020-01-26T00:36:37.423946Z"
    }
   },
   "outputs": [],
   "source": [
    "from os import listdir\n",
    "data_dir2 = '../../data/'\n",
    "files = [f for f in listdir(data_dir2) if '.xlsx' in f]"
   ]
  },
  {
   "cell_type": "code",
   "execution_count": 9,
   "metadata": {
    "ExecuteTime": {
     "end_time": "2020-01-26T00:36:37.443794Z",
     "start_time": "2020-01-26T00:36:37.432258Z"
    }
   },
   "outputs": [],
   "source": [
    "dates=[]\n",
    "for file in files: \n",
    "    dates.append(file.replace('_report.xlsx', '').replace('_update.xlsx',''))\n",
    "dates = sorted(dates)"
   ]
  },
  {
   "cell_type": "code",
   "execution_count": 10,
   "metadata": {
    "ExecuteTime": {
     "end_time": "2020-01-26T00:36:37.467248Z",
     "start_time": "2020-01-26T00:36:37.449336Z"
    }
   },
   "outputs": [
    {
     "data": {
      "text/plain": [
       "['20181009', '20181015', '20181022', '20181029', '20181105']"
      ]
     },
     "execution_count": 10,
     "metadata": {},
     "output_type": "execute_result"
    }
   ],
   "source": [
    "dates[:5]"
   ]
  },
  {
   "cell_type": "code",
   "execution_count": 19,
   "metadata": {
    "ExecuteTime": {
     "end_time": "2020-01-26T00:38:11.336038Z",
     "start_time": "2020-01-26T00:38:09.215313Z"
    }
   },
   "outputs": [
    {
     "name": "stdout",
     "output_type": "stream",
     "text": [
      "Opening ~/projects/bcc_weekly_reports/data/20181113_report.xlsx\n",
      "Rows: 4, Cols: 19\n",
      "Opening ~/projects/bcc_weekly_reports/data/20190429_report.xlsx\n",
      "Rows: 4, Cols: 24\n",
      "Opening ~/projects/bcc_weekly_reports/data/20181203_report.xlsx\n",
      "Rows: 4, Cols: 19\n",
      "Opening ~/projects/bcc_weekly_reports/data/20190610_report.xlsx\n",
      "Rows: 4, Cols: 24\n",
      "Opening ~/projects/bcc_weekly_reports/data/20190527_report.xlsx\n",
      "Rows: 4, Cols: 24\n",
      "Opening ~/projects/bcc_weekly_reports/data/20191209_report.xlsx\n",
      "Rows: 4, Cols: 24\n",
      "Opening ~/projects/bcc_weekly_reports/data/20191007_report.xlsx\n",
      "Rows: 4, Cols: 24\n",
      "Opening ~/projects/bcc_weekly_reports/data/20190729_report.xlsx\n",
      "Rows: 4, Cols: 24\n",
      "Opening ~/projects/bcc_weekly_reports/data/20190923_report.xlsx\n",
      "Rows: 4, Cols: 24\n",
      "Opening ~/projects/bcc_weekly_reports/data/20190603_report.xlsx\n",
      "Rows: 4, Cols: 24\n",
      "Opening ~/projects/bcc_weekly_reports/data/20181029_report.xlsx\n",
      "Rows: 4, Cols: 19\n",
      "Opening ~/projects/bcc_weekly_reports/data/20181210_report.xlsx\n",
      "Rows: 4, Cols: 19\n",
      "Opening ~/projects/bcc_weekly_reports/data/20190506_report.xlsx\n",
      "Rows: 4, Cols: 24\n",
      "Opening ~/projects/bcc_weekly_reports/data/20190218_update.xlsx\n",
      "Rows: 4, Cols: 22\n",
      "Opening ~/projects/bcc_weekly_reports/data/20190204_update.xlsx\n",
      "Rows: 4, Cols: 21\n",
      "Opening ~/projects/bcc_weekly_reports/data/20190408_report.xlsx\n",
      "Rows: 4, Cols: 23\n",
      "Opening ~/projects/bcc_weekly_reports/data/20190624_report.xlsx\n",
      "Rows: 4, Cols: 24\n",
      "Opening ~/projects/bcc_weekly_reports/data/20190513_report.xlsx\n",
      "Rows: 4, Cols: 24\n",
      "Opening ~/projects/bcc_weekly_reports/data/20181119_report.xlsx\n",
      "Rows: 4, Cols: 19\n",
      "Opening ~/projects/bcc_weekly_reports/data/20190701_report.xlsx\n",
      "Rows: 4, Cols: 24\n",
      "Opening ~/projects/bcc_weekly_reports/data/20181105_report.xlsx\n",
      "Rows: 4, Cols: 19\n",
      "Opening ~/projects/bcc_weekly_reports/data/20191216_report.xlsx\n",
      "Rows: 4, Cols: 24\n",
      "Opening ~/projects/bcc_weekly_reports/data/20190930_report.xlsx\n",
      "Rows: 4, Cols: 24\n",
      "Opening ~/projects/bcc_weekly_reports/data/20200120_report.xlsx\n",
      "Rows: 4, Cols: 24\n",
      "Opening ~/projects/bcc_weekly_reports/data/20190819_report.xlsx\n",
      "Rows: 4, Cols: 24\n",
      "Opening ~/projects/bcc_weekly_reports/data/20191014_report.xlsx\n",
      "Rows: 4, Cols: 24\n",
      "Opening ~/projects/bcc_weekly_reports/data/20190708_report.xlsx\n",
      "Rows: 4, Cols: 24\n",
      "Opening ~/projects/bcc_weekly_reports/data/20190805_report.xlsx\n",
      "Rows: 4, Cols: 24\n",
      "Opening ~/projects/bcc_weekly_reports/data/20191021_report.xlsx\n",
      "Rows: 4, Cols: 24\n",
      "Opening ~/projects/bcc_weekly_reports/data/20181022_report.xlsx\n",
      "Rows: 4, Cols: 19\n",
      "Opening ~/projects/bcc_weekly_reports/data/20191223_report.xlsx\n",
      "Rows: 4, Cols: 24\n",
      "Opening ~/projects/bcc_weekly_reports/data/20191028_report.xlsx\n",
      "Rows: 4, Cols: 24\n",
      "Opening ~/projects/bcc_weekly_reports/data/20190812_report.xlsx\n",
      "Rows: 4, Cols: 24\n",
      "Opening ~/projects/bcc_weekly_reports/data/20181009_report.xlsx\n",
      "Rows: 4, Cols: 19\n",
      "Opening ~/projects/bcc_weekly_reports/data/20190304_update.xlsx\n",
      "Rows: 4, Cols: 22\n",
      "Opening ~/projects/bcc_weekly_reports/data/20190318_update.xlsx\n",
      "Rows: 4, Cols: 22\n",
      "Opening ~/projects/bcc_weekly_reports/data/20181015_report.xlsx\n",
      "Rows: 4, Cols: 19\n",
      "Opening ~/projects/bcc_weekly_reports/data/20190108_report.xlsx\n",
      "Rows: 4, Cols: 20\n",
      "Opening ~/projects/bcc_weekly_reports/data/20191111_report.xlsx\n",
      "Rows: 4, Cols: 24\n",
      "Opening ~/projects/bcc_weekly_reports/data/20190909_report.xlsx\n",
      "Rows: 4, Cols: 24\n",
      "Opening ~/projects/bcc_weekly_reports/data/20181217_report.xlsx\n",
      "Rows: 4, Cols: 20\n",
      "Opening ~/projects/bcc_weekly_reports/data/20191104_report.xlsx\n",
      "Rows: 4, Cols: 24\n",
      "Opening ~/projects/bcc_weekly_reports/data/20190422_report.xlsx\n",
      "Rows: 4, Cols: 24\n",
      "Opening ~/projects/bcc_weekly_reports/data/20191230_report.xlsx\n",
      "Rows: 4, Cols: 24\n",
      "Opening ~/projects/bcc_weekly_reports/data/20200113_report.xlsx\n",
      "Rows: 4, Cols: 24\n",
      "Opening ~/projects/bcc_weekly_reports/data/20190916_report.xlsx\n",
      "Rows: 4, Cols: 24\n",
      "Opening ~/projects/bcc_weekly_reports/data/20181226_report.xlsx\n",
      "Rows: 4, Cols: 20\n",
      "Opening ~/projects/bcc_weekly_reports/data/20191202_report.xlsx\n",
      "Rows: 4, Cols: 24\n",
      "Opening ~/projects/bcc_weekly_reports/data/20190715_report.xlsx\n",
      "Rows: 4, Cols: 24\n",
      "Opening ~/projects/bcc_weekly_reports/data/20190402_update.xlsx\n",
      "Rows: 4, Cols: 22\n",
      "Opening ~/projects/bcc_weekly_reports/data/20190122_update.xlsx\n",
      "Rows: 4, Cols: 20\n",
      "Opening ~/projects/bcc_weekly_reports/data/20200106_report.xlsx\n",
      "Rows: 4, Cols: 24\n",
      "Opening ~/projects/bcc_weekly_reports/data/20190903_report.xlsx\n",
      "Rows: 4, Cols: 24\n",
      "Opening ~/projects/bcc_weekly_reports/data/20190826_report.xlsx\n",
      "Rows: 4, Cols: 24\n",
      "Opening ~/projects/bcc_weekly_reports/data/20190617_report.xlsx\n",
      "Rows: 4, Cols: 24\n",
      "Opening ~/projects/bcc_weekly_reports/data/20190520_report.xlsx\n",
      "Rows: 4, Cols: 24\n",
      "Opening ~/projects/bcc_weekly_reports/data/20191125_report.xlsx\n",
      "Rows: 4, Cols: 24\n",
      "Opening ~/projects/bcc_weekly_reports/data/20190722_report.xlsx\n",
      "Rows: 4, Cols: 24\n",
      "Opening ~/projects/bcc_weekly_reports/data/20181126_report.xlsx\n",
      "Rows: 4, Cols: 19\n",
      "Opening ~/projects/bcc_weekly_reports/data/20190415_report.xlsx\n",
      "Rows: 4, Cols: 24\n"
     ]
    }
   ],
   "source": [
    "totals = pd.DataFrame()\n",
    "product_categories = pd.DataFrame()\n",
    "fail_categories = pd.DataFrame()\n",
    "\n",
    "for file in files:\n",
    "    # Read file, append rows to dataframes, save\n",
    "    \n",
    "    # Read file\n",
    "    wb, sheet = openBCCfile(file=file)\n",
    "    # Read tables\n",
    "    totals = totals.append(importCOAdata(table='totals', file=file))\n",
    "    product_categories = product_categories.append(importCOAdata(table='product_category', file=file))\n",
    "    fail_categories = fail_categories.append(importCOAdata(table='fail_category', file=file))"
   ]
  },
  {
   "cell_type": "code",
   "execution_count": 20,
   "metadata": {
    "ExecuteTime": {
     "end_time": "2020-01-26T00:38:13.579970Z",
     "start_time": "2020-01-26T00:38:13.570854Z"
    }
   },
   "outputs": [
    {
     "data": {
      "text/plain": [
       "762"
      ]
     },
     "execution_count": 20,
     "metadata": {},
     "output_type": "execute_result"
    }
   ],
   "source": [
    "len(fail_categories)"
   ]
  },
  {
   "cell_type": "code",
   "execution_count": 21,
   "metadata": {
    "ExecuteTime": {
     "end_time": "2020-01-26T00:38:13.723851Z",
     "start_time": "2020-01-26T00:38:13.711733Z"
    }
   },
   "outputs": [
    {
     "data": {
      "text/html": [
       "<div>\n",
       "<style scoped>\n",
       "    .dataframe tbody tr th:only-of-type {\n",
       "        vertical-align: middle;\n",
       "    }\n",
       "\n",
       "    .dataframe tbody tr th {\n",
       "        vertical-align: top;\n",
       "    }\n",
       "\n",
       "    .dataframe thead th {\n",
       "        text-align: right;\n",
       "    }\n",
       "</style>\n",
       "<table border=\"1\" class=\"dataframe\">\n",
       "  <thead>\n",
       "    <tr style=\"text-align: right;\">\n",
       "      <th></th>\n",
       "      <th>Certificates of Analysis Received</th>\n",
       "      <th>Tested Batches</th>\n",
       "      <th></th>\n",
       "      <th>Failed Batches</th>\n",
       "      <th>date</th>\n",
       "    </tr>\n",
       "  </thead>\n",
       "  <tbody>\n",
       "    <tr>\n",
       "      <th>0</th>\n",
       "      <td>20797</td>\n",
       "      <td>20797</td>\n",
       "      <td></td>\n",
       "      <td>3164</td>\n",
       "      <td>2018-11-13</td>\n",
       "    </tr>\n",
       "    <tr>\n",
       "      <th>0</th>\n",
       "      <td>46503</td>\n",
       "      <td>46503</td>\n",
       "      <td></td>\n",
       "      <td>4679</td>\n",
       "      <td>2019-04-29</td>\n",
       "    </tr>\n",
       "    <tr>\n",
       "      <th>0</th>\n",
       "      <td>23864</td>\n",
       "      <td>23864</td>\n",
       "      <td></td>\n",
       "      <td>3373</td>\n",
       "      <td>2018-12-03</td>\n",
       "    </tr>\n",
       "    <tr>\n",
       "      <th>0</th>\n",
       "      <td>52471</td>\n",
       "      <td>52471</td>\n",
       "      <td></td>\n",
       "      <td>4906</td>\n",
       "      <td>2019-06-10</td>\n",
       "    </tr>\n",
       "    <tr>\n",
       "      <th>0</th>\n",
       "      <td>50811</td>\n",
       "      <td>50811</td>\n",
       "      <td></td>\n",
       "      <td>4831</td>\n",
       "      <td>2019-05-27</td>\n",
       "    </tr>\n",
       "  </tbody>\n",
       "</table>\n",
       "</div>"
      ],
      "text/plain": [
       "   Certificates of Analysis Received  Tested Batches    Failed Batches  \\\n",
       "0                              20797           20797              3164   \n",
       "0                              46503           46503              4679   \n",
       "0                              23864           23864              3373   \n",
       "0                              52471           52471              4906   \n",
       "0                              50811           50811              4831   \n",
       "\n",
       "        date  \n",
       "0 2018-11-13  \n",
       "0 2019-04-29  \n",
       "0 2018-12-03  \n",
       "0 2019-06-10  \n",
       "0 2019-05-27  "
      ]
     },
     "execution_count": 21,
     "metadata": {},
     "output_type": "execute_result"
    }
   ],
   "source": [
    "totals.head()"
   ]
  },
  {
   "cell_type": "code",
   "execution_count": 22,
   "metadata": {
    "ExecuteTime": {
     "end_time": "2020-01-26T00:38:14.060168Z",
     "start_time": "2020-01-26T00:38:14.030244Z"
    }
   },
   "outputs": [],
   "source": [
    "del totals['']\n",
    "del product_categories['']\n",
    "del fail_categories['']\n",
    "\n",
    "totals.to_csv(path_or_buf='../../etl_data/totals.csv', index=False)\n",
    "product_categories.to_csv(path_or_buf='../../etl_data/product_categories.csv', index=False)\n",
    "fail_categories.to_csv(path_or_buf='../../etl_data/fail_categories.csv', index=False)"
   ]
  },
  {
   "cell_type": "code",
   "execution_count": 23,
   "metadata": {
    "ExecuteTime": {
     "end_time": "2020-01-26T00:38:14.189126Z",
     "start_time": "2020-01-26T00:38:14.181210Z"
    }
   },
   "outputs": [
    {
     "data": {
      "text/plain": [
       "Index(['Certificates of Analysis Received', 'Tested Batches', 'Failed Batches',\n",
       "       'date'],\n",
       "      dtype='object')"
      ]
     },
     "execution_count": 23,
     "metadata": {},
     "output_type": "execute_result"
    }
   ],
   "source": [
    "totals.columns"
   ]
  },
  {
   "cell_type": "code",
   "execution_count": 24,
   "metadata": {
    "ExecuteTime": {
     "end_time": "2020-01-26T00:38:14.434648Z",
     "start_time": "2020-01-26T00:38:14.421094Z"
    }
   },
   "outputs": [
    {
     "data": {
      "text/plain": [
       "Index(['Tested Batches By Category', 'Tested Batches',\n",
       "       'Failed Batches By Category', 'date'],\n",
       "      dtype='object')"
      ]
     },
     "execution_count": 24,
     "metadata": {},
     "output_type": "execute_result"
    }
   ],
   "source": [
    "product_categories.columns"
   ]
  },
  {
   "cell_type": "code",
   "execution_count": 25,
   "metadata": {
    "ExecuteTime": {
     "end_time": "2020-01-26T00:38:14.645244Z",
     "start_time": "2020-01-26T00:38:14.622504Z"
    }
   },
   "outputs": [
    {
     "data": {
      "text/html": [
       "<div>\n",
       "<style scoped>\n",
       "    .dataframe tbody tr th:only-of-type {\n",
       "        vertical-align: middle;\n",
       "    }\n",
       "\n",
       "    .dataframe tbody tr th {\n",
       "        vertical-align: top;\n",
       "    }\n",
       "\n",
       "    .dataframe thead th {\n",
       "        text-align: right;\n",
       "    }\n",
       "</style>\n",
       "<table border=\"1\" class=\"dataframe\">\n",
       "  <thead>\n",
       "    <tr style=\"text-align: right;\">\n",
       "      <th></th>\n",
       "      <th>Tested Batches By Category</th>\n",
       "      <th>Tested Batches</th>\n",
       "      <th>Failed Batches By Category</th>\n",
       "      <th>date</th>\n",
       "    </tr>\n",
       "  </thead>\n",
       "  <tbody>\n",
       "    <tr>\n",
       "      <th>0</th>\n",
       "      <td>Flower:</td>\n",
       "      <td>10415</td>\n",
       "      <td>1029</td>\n",
       "      <td>2018-11-13</td>\n",
       "    </tr>\n",
       "    <tr>\n",
       "      <th>1</th>\n",
       "      <td>Inhalable\\n(cartridges, waxes, etc.):</td>\n",
       "      <td>6464</td>\n",
       "      <td>1054</td>\n",
       "      <td>2018-11-13</td>\n",
       "    </tr>\n",
       "    <tr>\n",
       "      <th>2</th>\n",
       "      <td>Other\\n(edibles, tinctures, topicals, etc.):</td>\n",
       "      <td>3918</td>\n",
       "      <td>1081</td>\n",
       "      <td>2018-11-13</td>\n",
       "    </tr>\n",
       "    <tr>\n",
       "      <th>3</th>\n",
       "      <td>Total:</td>\n",
       "      <td>20797</td>\n",
       "      <td>3164</td>\n",
       "      <td>2018-11-13</td>\n",
       "    </tr>\n",
       "    <tr>\n",
       "      <th>0</th>\n",
       "      <td>Flower:</td>\n",
       "      <td>23347</td>\n",
       "      <td>1627</td>\n",
       "      <td>2019-04-29</td>\n",
       "    </tr>\n",
       "    <tr>\n",
       "      <th>...</th>\n",
       "      <td>...</td>\n",
       "      <td>...</td>\n",
       "      <td>...</td>\n",
       "      <td>...</td>\n",
       "    </tr>\n",
       "    <tr>\n",
       "      <th>3</th>\n",
       "      <td>Total:</td>\n",
       "      <td>22096</td>\n",
       "      <td>3310</td>\n",
       "      <td>2018-11-26</td>\n",
       "    </tr>\n",
       "    <tr>\n",
       "      <th>0</th>\n",
       "      <td>Flower:</td>\n",
       "      <td>22277</td>\n",
       "      <td>1589</td>\n",
       "      <td>2019-04-15</td>\n",
       "    </tr>\n",
       "    <tr>\n",
       "      <th>1</th>\n",
       "      <td>Inhalable\\n(cartridges, waxes, etc.):</td>\n",
       "      <td>14150</td>\n",
       "      <td>1598</td>\n",
       "      <td>2019-04-15</td>\n",
       "    </tr>\n",
       "    <tr>\n",
       "      <th>2</th>\n",
       "      <td>Other\\n(edibles, tinctures, topicals, etc.):</td>\n",
       "      <td>7590</td>\n",
       "      <td>1402</td>\n",
       "      <td>2019-04-15</td>\n",
       "    </tr>\n",
       "    <tr>\n",
       "      <th>3</th>\n",
       "      <td>Total:</td>\n",
       "      <td>44017</td>\n",
       "      <td>4589</td>\n",
       "      <td>2019-04-15</td>\n",
       "    </tr>\n",
       "  </tbody>\n",
       "</table>\n",
       "<p>240 rows × 4 columns</p>\n",
       "</div>"
      ],
      "text/plain": [
       "                      Tested Batches By Category  Tested Batches  \\\n",
       "0                                        Flower:           10415   \n",
       "1          Inhalable\\n(cartridges, waxes, etc.):            6464   \n",
       "2   Other\\n(edibles, tinctures, topicals, etc.):            3918   \n",
       "3                                         Total:           20797   \n",
       "0                                        Flower:           23347   \n",
       "..                                           ...             ...   \n",
       "3                                         Total:           22096   \n",
       "0                                        Flower:           22277   \n",
       "1          Inhalable\\n(cartridges, waxes, etc.):           14150   \n",
       "2   Other\\n(edibles, tinctures, topicals, etc.):            7590   \n",
       "3                                         Total:           44017   \n",
       "\n",
       "   Failed Batches By Category       date  \n",
       "0                        1029 2018-11-13  \n",
       "1                        1054 2018-11-13  \n",
       "2                        1081 2018-11-13  \n",
       "3                        3164 2018-11-13  \n",
       "0                        1627 2019-04-29  \n",
       "..                        ...        ...  \n",
       "3                        3310 2018-11-26  \n",
       "0                        1589 2019-04-15  \n",
       "1                        1598 2019-04-15  \n",
       "2                        1402 2019-04-15  \n",
       "3                        4589 2019-04-15  \n",
       "\n",
       "[240 rows x 4 columns]"
      ]
     },
     "execution_count": 25,
     "metadata": {},
     "output_type": "execute_result"
    }
   ],
   "source": [
    "product_categories"
   ]
  },
  {
   "cell_type": "code",
   "execution_count": null,
   "metadata": {},
   "outputs": [],
   "source": []
  },
  {
   "cell_type": "code",
   "execution_count": null,
   "metadata": {},
   "outputs": [],
   "source": []
  },
  {
   "cell_type": "code",
   "execution_count": null,
   "metadata": {},
   "outputs": [],
   "source": []
  }
 ],
 "metadata": {
  "kernelspec": {
   "display_name": "Python 3",
   "language": "python",
   "name": "python3"
  },
  "language_info": {
   "codemirror_mode": {
    "name": "ipython",
    "version": 3
   },
   "file_extension": ".py",
   "mimetype": "text/x-python",
   "name": "python",
   "nbconvert_exporter": "python",
   "pygments_lexer": "ipython3",
   "version": "3.7.6"
  },
  "toc": {
   "base_numbering": 1,
   "nav_menu": {},
   "number_sections": true,
   "sideBar": true,
   "skip_h1_title": false,
   "title_cell": "Table of Contents",
   "title_sidebar": "Contents",
   "toc_cell": false,
   "toc_position": {},
   "toc_section_display": true,
   "toc_window_display": false
  }
 },
 "nbformat": 4,
 "nbformat_minor": 2
}
