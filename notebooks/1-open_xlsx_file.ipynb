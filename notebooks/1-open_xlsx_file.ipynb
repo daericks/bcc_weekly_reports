{
 "cells": [
  {
   "cell_type": "code",
   "execution_count": 43,
   "metadata": {
    "ExecuteTime": {
     "end_time": "2020-01-25T22:14:33.327033Z",
     "start_time": "2020-01-25T22:14:33.324141Z"
    }
   },
   "outputs": [],
   "source": [
    "import xlrd\n",
    "import pandas as pd"
   ]
  },
  {
   "cell_type": "code",
   "execution_count": 49,
   "metadata": {
    "ExecuteTime": {
     "end_time": "2020-01-25T22:33:41.310248Z",
     "start_time": "2020-01-25T22:33:41.306226Z"
    }
   },
   "outputs": [],
   "source": [
    "date = '20200120'"
   ]
  },
  {
   "cell_type": "code",
   "execution_count": 46,
   "metadata": {
    "ExecuteTime": {
     "end_time": "2020-01-25T22:31:49.618612Z",
     "start_time": "2020-01-25T22:31:49.588093Z"
    }
   },
   "outputs": [
    {
     "name": "stdout",
     "output_type": "stream",
     "text": [
      "Opening ~/projects/bcc_weekly_reports/data/20200120_report.xlsx\n",
      "Rows: 4, Cols: 24\n"
     ]
    }
   ],
   "source": [
    "def openBCCfile(date = '20200120'):\n",
    "    data_dir = '~/projects/bcc_weekly_reports/data/'\n",
    "    postfix = '_report.xlsx'\n",
    "    loc = (data_dir + date + postfix)\n",
    "\n",
    "    print('Opening {}'.format(loc))\n",
    "    wb = xlrd.open_workbook(loc)\n",
    "    sheet = wb.sheet_by_index(2)\n",
    "    print('Rows: {}, Cols: {}'.format(sheet.ncols, sheet.nrows))\n",
    "    \n",
    "    return wb, sheet\n",
    "\n",
    "wb, sheet = openBCCfile(date='20200120')"
   ]
  },
  {
   "cell_type": "code",
   "execution_count": 85,
   "metadata": {
    "ExecuteTime": {
     "end_time": "2020-01-25T22:41:16.205033Z",
     "start_time": "2020-01-25T22:41:16.192810Z"
    }
   },
   "outputs": [],
   "source": [
    "def importCOAdata(table='totals', date = '20200120'):\n",
    "    '''\n",
    "    Return a df of one of the 3 tables found in the COA weekly report\n",
    "    '''\n",
    "    # Which table to import\n",
    "    if table == 'totals':\n",
    "        rows = range(1,3)\n",
    "    elif table == 'product_category':\n",
    "        rows = range(4,9)\n",
    "    elif table == 'fail_category':\n",
    "        rows = range(9,23)\n",
    "\n",
    "    data = []\n",
    "    for row in rows:\n",
    "        data.append(sheet.row_values(row))\n",
    "\n",
    "    data_df = pd.DataFrame(data=data[1:], columns=data[0], dtype='int')\n",
    "    \n",
    "    # Create date column and make dtype=datetime\n",
    "    data_df['date'] = pd.to_datetime(date)\n",
    "    data_df\n",
    "    \n",
    "    return data_df\n"
   ]
  },
  {
   "cell_type": "code",
   "execution_count": 94,
   "metadata": {
    "ExecuteTime": {
     "end_time": "2020-01-25T22:43:34.981452Z",
     "start_time": "2020-01-25T22:43:34.970611Z"
    }
   },
   "outputs": [
    {
     "data": {
      "text/plain": [
       "Timestamp('2020-01-20 00:00:00')"
      ]
     },
     "execution_count": 94,
     "metadata": {},
     "output_type": "execute_result"
    }
   ],
   "source": [
    "pd.to_datetime(date)"
   ]
  },
  {
   "cell_type": "code",
   "execution_count": 93,
   "metadata": {
    "ExecuteTime": {
     "end_time": "2020-01-25T22:42:51.985794Z",
     "start_time": "2020-01-25T22:42:51.968298Z"
    }
   },
   "outputs": [
    {
     "data": {
      "text/html": [
       "<div>\n",
       "<style scoped>\n",
       "    .dataframe tbody tr th:only-of-type {\n",
       "        vertical-align: middle;\n",
       "    }\n",
       "\n",
       "    .dataframe tbody tr th {\n",
       "        vertical-align: top;\n",
       "    }\n",
       "\n",
       "    .dataframe thead th {\n",
       "        text-align: right;\n",
       "    }\n",
       "</style>\n",
       "<table border=\"1\" class=\"dataframe\">\n",
       "  <thead>\n",
       "    <tr style=\"text-align: right;\">\n",
       "      <th></th>\n",
       "      <th>Certificates of Analysis Received</th>\n",
       "      <th>Tested Batches</th>\n",
       "      <th></th>\n",
       "      <th>Failed Batches</th>\n",
       "      <th>date</th>\n",
       "    </tr>\n",
       "  </thead>\n",
       "  <tbody>\n",
       "    <tr>\n",
       "      <th>0</th>\n",
       "      <td>90793</td>\n",
       "      <td>90793</td>\n",
       "      <td></td>\n",
       "      <td>6124</td>\n",
       "      <td>2020-01-20</td>\n",
       "    </tr>\n",
       "  </tbody>\n",
       "</table>\n",
       "</div>"
      ],
      "text/plain": [
       "   Certificates of Analysis Received  Tested Batches    Failed Batches  \\\n",
       "0                              90793           90793              6124   \n",
       "\n",
       "        date  \n",
       "0 2020-01-20  "
      ]
     },
     "execution_count": 93,
     "metadata": {},
     "output_type": "execute_result"
    }
   ],
   "source": [
    "totals['date'] = pd.to_datetime(totals['date'])\n",
    "totals"
   ]
  },
  {
   "cell_type": "code",
   "execution_count": 86,
   "metadata": {
    "ExecuteTime": {
     "end_time": "2020-01-25T22:41:16.524598Z",
     "start_time": "2020-01-25T22:41:16.504863Z"
    }
   },
   "outputs": [
    {
     "data": {
      "text/html": [
       "<div>\n",
       "<style scoped>\n",
       "    .dataframe tbody tr th:only-of-type {\n",
       "        vertical-align: middle;\n",
       "    }\n",
       "\n",
       "    .dataframe tbody tr th {\n",
       "        vertical-align: top;\n",
       "    }\n",
       "\n",
       "    .dataframe thead th {\n",
       "        text-align: right;\n",
       "    }\n",
       "</style>\n",
       "<table border=\"1\" class=\"dataframe\">\n",
       "  <thead>\n",
       "    <tr style=\"text-align: right;\">\n",
       "      <th></th>\n",
       "      <th>Certificates of Analysis Received</th>\n",
       "      <th>Tested Batches</th>\n",
       "      <th></th>\n",
       "      <th>Failed Batches</th>\n",
       "      <th>date</th>\n",
       "    </tr>\n",
       "  </thead>\n",
       "  <tbody>\n",
       "    <tr>\n",
       "      <th>0</th>\n",
       "      <td>90793</td>\n",
       "      <td>90793</td>\n",
       "      <td></td>\n",
       "      <td>6124</td>\n",
       "      <td>20200120</td>\n",
       "    </tr>\n",
       "  </tbody>\n",
       "</table>\n",
       "</div>"
      ],
      "text/plain": [
       "   Certificates of Analysis Received  Tested Batches    Failed Batches  \\\n",
       "0                              90793           90793              6124   \n",
       "\n",
       "       date  \n",
       "0  20200120  "
      ]
     },
     "execution_count": 86,
     "metadata": {},
     "output_type": "execute_result"
    }
   ],
   "source": [
    "totals = importCOAdata(table='totals')\n",
    "totals"
   ]
  },
  {
   "cell_type": "code",
   "execution_count": 87,
   "metadata": {
    "ExecuteTime": {
     "end_time": "2020-01-25T22:41:16.773779Z",
     "start_time": "2020-01-25T22:41:16.755553Z"
    }
   },
   "outputs": [
    {
     "data": {
      "text/html": [
       "<div>\n",
       "<style scoped>\n",
       "    .dataframe tbody tr th:only-of-type {\n",
       "        vertical-align: middle;\n",
       "    }\n",
       "\n",
       "    .dataframe tbody tr th {\n",
       "        vertical-align: top;\n",
       "    }\n",
       "\n",
       "    .dataframe thead th {\n",
       "        text-align: right;\n",
       "    }\n",
       "</style>\n",
       "<table border=\"1\" class=\"dataframe\">\n",
       "  <thead>\n",
       "    <tr style=\"text-align: right;\">\n",
       "      <th></th>\n",
       "      <th>Tested Batches By Category</th>\n",
       "      <th>Tested Batches</th>\n",
       "      <th></th>\n",
       "      <th>Failed Batches By Category</th>\n",
       "      <th>date</th>\n",
       "    </tr>\n",
       "  </thead>\n",
       "  <tbody>\n",
       "    <tr>\n",
       "      <th>0</th>\n",
       "      <td>Flower:</td>\n",
       "      <td>44108</td>\n",
       "      <td></td>\n",
       "      <td>2401</td>\n",
       "      <td>20200120</td>\n",
       "    </tr>\n",
       "    <tr>\n",
       "      <th>1</th>\n",
       "      <td>Inhalable\\n(cartridges, waxes, etc.):</td>\n",
       "      <td>31715</td>\n",
       "      <td></td>\n",
       "      <td>2170</td>\n",
       "      <td>20200120</td>\n",
       "    </tr>\n",
       "    <tr>\n",
       "      <th>2</th>\n",
       "      <td>Other\\n(edibles, tinctures, topicals, etc.):</td>\n",
       "      <td>14970</td>\n",
       "      <td></td>\n",
       "      <td>1553</td>\n",
       "      <td>20200120</td>\n",
       "    </tr>\n",
       "    <tr>\n",
       "      <th>3</th>\n",
       "      <td>Total:</td>\n",
       "      <td>90793</td>\n",
       "      <td></td>\n",
       "      <td>6124</td>\n",
       "      <td>20200120</td>\n",
       "    </tr>\n",
       "  </tbody>\n",
       "</table>\n",
       "</div>"
      ],
      "text/plain": [
       "                     Tested Batches By Category  Tested Batches    \\\n",
       "0                                       Flower:           44108     \n",
       "1         Inhalable\\n(cartridges, waxes, etc.):           31715     \n",
       "2  Other\\n(edibles, tinctures, topicals, etc.):           14970     \n",
       "3                                        Total:           90793     \n",
       "\n",
       "   Failed Batches By Category      date  \n",
       "0                        2401  20200120  \n",
       "1                        2170  20200120  \n",
       "2                        1553  20200120  \n",
       "3                        6124  20200120  "
      ]
     },
     "execution_count": 87,
     "metadata": {},
     "output_type": "execute_result"
    }
   ],
   "source": [
    "importCOAdata(table='product_category')"
   ]
  },
  {
   "cell_type": "code",
   "execution_count": 88,
   "metadata": {
    "ExecuteTime": {
     "end_time": "2020-01-25T22:41:17.248601Z",
     "start_time": "2020-01-25T22:41:17.231960Z"
    }
   },
   "outputs": [
    {
     "data": {
      "text/html": [
       "<div>\n",
       "<style scoped>\n",
       "    .dataframe tbody tr th:only-of-type {\n",
       "        vertical-align: middle;\n",
       "    }\n",
       "\n",
       "    .dataframe tbody tr th {\n",
       "        vertical-align: top;\n",
       "    }\n",
       "\n",
       "    .dataframe thead th {\n",
       "        text-align: right;\n",
       "    }\n",
       "</style>\n",
       "<table border=\"1\" class=\"dataframe\">\n",
       "  <thead>\n",
       "    <tr style=\"text-align: right;\">\n",
       "      <th></th>\n",
       "      <th>*Reasons For Failure</th>\n",
       "      <th></th>\n",
       "      <th>Failed Batches By Category</th>\n",
       "      <th></th>\n",
       "      <th>date</th>\n",
       "    </tr>\n",
       "  </thead>\n",
       "  <tbody>\n",
       "    <tr>\n",
       "      <th>0</th>\n",
       "      <td>Label Claims:</td>\n",
       "      <td></td>\n",
       "      <td>2379</td>\n",
       "      <td></td>\n",
       "      <td>20200120</td>\n",
       "    </tr>\n",
       "    <tr>\n",
       "      <th>1</th>\n",
       "      <td>Pesticides:</td>\n",
       "      <td></td>\n",
       "      <td>1790</td>\n",
       "      <td></td>\n",
       "      <td>20200120</td>\n",
       "    </tr>\n",
       "    <tr>\n",
       "      <th>2</th>\n",
       "      <td>Microbial Impurities:</td>\n",
       "      <td></td>\n",
       "      <td>929</td>\n",
       "      <td></td>\n",
       "      <td>20200120</td>\n",
       "    </tr>\n",
       "    <tr>\n",
       "      <th>3</th>\n",
       "      <td>Residual Solvents:</td>\n",
       "      <td></td>\n",
       "      <td>361</td>\n",
       "      <td></td>\n",
       "      <td>20200120</td>\n",
       "    </tr>\n",
       "    <tr>\n",
       "      <th>4</th>\n",
       "      <td>Homogeneity:</td>\n",
       "      <td></td>\n",
       "      <td>36</td>\n",
       "      <td></td>\n",
       "      <td>20200120</td>\n",
       "    </tr>\n",
       "    <tr>\n",
       "      <th>5</th>\n",
       "      <td>Foreign Material:</td>\n",
       "      <td></td>\n",
       "      <td>26</td>\n",
       "      <td></td>\n",
       "      <td>20200120</td>\n",
       "    </tr>\n",
       "    <tr>\n",
       "      <th>6</th>\n",
       "      <td>Moisture:</td>\n",
       "      <td></td>\n",
       "      <td>71</td>\n",
       "      <td></td>\n",
       "      <td>20200120</td>\n",
       "    </tr>\n",
       "    <tr>\n",
       "      <th>7</th>\n",
       "      <td>Heavy Metals:</td>\n",
       "      <td></td>\n",
       "      <td>541</td>\n",
       "      <td></td>\n",
       "      <td>20200120</td>\n",
       "    </tr>\n",
       "    <tr>\n",
       "      <th>8</th>\n",
       "      <td>Water Activity:</td>\n",
       "      <td></td>\n",
       "      <td>51</td>\n",
       "      <td></td>\n",
       "      <td>20200120</td>\n",
       "    </tr>\n",
       "    <tr>\n",
       "      <th>9</th>\n",
       "      <td>Cannabinoids:</td>\n",
       "      <td></td>\n",
       "      <td>77</td>\n",
       "      <td></td>\n",
       "      <td>20200120</td>\n",
       "    </tr>\n",
       "    <tr>\n",
       "      <th>10</th>\n",
       "      <td>Mycotoxins:</td>\n",
       "      <td></td>\n",
       "      <td>10</td>\n",
       "      <td></td>\n",
       "      <td>20200120</td>\n",
       "    </tr>\n",
       "    <tr>\n",
       "      <th>11</th>\n",
       "      <td>Injurious to Human Health:</td>\n",
       "      <td></td>\n",
       "      <td>2</td>\n",
       "      <td></td>\n",
       "      <td>20200120</td>\n",
       "    </tr>\n",
       "    <tr>\n",
       "      <th>12</th>\n",
       "      <td>Total:</td>\n",
       "      <td></td>\n",
       "      <td>6273</td>\n",
       "      <td></td>\n",
       "      <td>20200120</td>\n",
       "    </tr>\n",
       "  </tbody>\n",
       "</table>\n",
       "</div>"
      ],
      "text/plain": [
       "          *Reasons For Failure    Failed Batches By Category        date\n",
       "0                Label Claims:                          2379    20200120\n",
       "1                  Pesticides:                          1790    20200120\n",
       "2        Microbial Impurities:                           929    20200120\n",
       "3           Residual Solvents:                           361    20200120\n",
       "4                 Homogeneity:                            36    20200120\n",
       "5            Foreign Material:                            26    20200120\n",
       "6                    Moisture:                            71    20200120\n",
       "7                Heavy Metals:                           541    20200120\n",
       "8              Water Activity:                            51    20200120\n",
       "9                Cannabinoids:                            77    20200120\n",
       "10                 Mycotoxins:                            10    20200120\n",
       "11  Injurious to Human Health:                             2    20200120\n",
       "12                      Total:                          6273    20200120"
      ]
     },
     "execution_count": 88,
     "metadata": {},
     "output_type": "execute_result"
    }
   ],
   "source": [
    "importCOAdata(table='fail_category')"
   ]
  },
  {
   "cell_type": "code",
   "execution_count": 89,
   "metadata": {
    "ExecuteTime": {
     "end_time": "2020-01-25T22:41:17.773189Z",
     "start_time": "2020-01-25T22:41:17.615072Z"
    }
   },
   "outputs": [
    {
     "name": "stdout",
     "output_type": "stream",
     "text": [
      "20200106_report.xlsx 20200113_report.xlsx 20200120_report.xlsx\r\n"
     ]
    }
   ],
   "source": [
    "! ls ../../data"
   ]
  },
  {
   "cell_type": "code",
   "execution_count": null,
   "metadata": {},
   "outputs": [],
   "source": []
  },
  {
   "cell_type": "code",
   "execution_count": null,
   "metadata": {},
   "outputs": [],
   "source": []
  }
 ],
 "metadata": {
  "kernelspec": {
   "display_name": "Python 3",
   "language": "python",
   "name": "python3"
  },
  "language_info": {
   "codemirror_mode": {
    "name": "ipython",
    "version": 3
   },
   "file_extension": ".py",
   "mimetype": "text/x-python",
   "name": "python",
   "nbconvert_exporter": "python",
   "pygments_lexer": "ipython3",
   "version": "3.7.6"
  },
  "toc": {
   "base_numbering": 1,
   "nav_menu": {},
   "number_sections": true,
   "sideBar": true,
   "skip_h1_title": false,
   "title_cell": "Table of Contents",
   "title_sidebar": "Contents",
   "toc_cell": false,
   "toc_position": {},
   "toc_section_display": true,
   "toc_window_display": false
  }
 },
 "nbformat": 4,
 "nbformat_minor": 2
}
